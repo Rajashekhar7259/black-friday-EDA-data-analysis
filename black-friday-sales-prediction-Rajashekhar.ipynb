{
  "metadata": {
    "kernelspec": {
      "name": "python",
      "display_name": "Python (Pyodide)",
      "language": "python"
    },
    "language_info": {
      "codemirror_mode": {
        "name": "python",
        "version": 3
      },
      "file_extension": ".py",
      "mimetype": "text/x-python",
      "name": "python",
      "nbconvert_exporter": "python",
      "pygments_lexer": "ipython3",
      "version": "3.8"
    },
    "papermill": {
      "default_parameters": {},
      "duration": 34.111998,
      "end_time": "2021-02-05T14:39:16.251242",
      "environment_variables": {},
      "exception": null,
      "input_path": "__notebook__.ipynb",
      "output_path": "__notebook__.ipynb",
      "parameters": {},
      "start_time": "2021-02-05T14:38:42.139244",
      "version": "2.2.2"
    }
  },
  "nbformat_minor": 4,
  "nbformat": 4,
  "cells": [
    {
      "cell_type": "markdown",
      "source": "## Black Friday Sales Prediction\n\nThis dataset comprises of sales transactions captured at a retail store. It’s a classic dataset to explore and expand your feature engineering skills and day to day understanding from multiple shopping experiences. This is a regression problem. The dataset has 550,069 rows and 12 columns.\n\nProblem: Predict purchase amount.\n\n### Data Overview\nDataset has 537577 rows (transactions) and 12 columns (features) as described below:\n\n* User_ID: Unique ID of the user. There are a total of 5891 users in the dataset.\n* Product_ID: Unique ID of the product. There are a total of 3623 products in the dataset.\n* Gender: indicates the gender of the person making the transaction.\n* Age: indicates the age group of the person making the transaction.\n* Occupation: shows the occupation of the user, already labeled with numbers 0 to 20.\n* City_Category: User's living city category. Cities are categorized into 3 different categories 'A', 'B' and 'C'.\n* Stay_In_Current_City_Years: Indicates how long the users has lived in this city.\n* Marital_Status: is 0 if the user is not married and 1 otherwise.\n* Product_Category_1 to _3: Category of the product. All 3 are already labaled with numbers.\n* Purchase: Purchase amount.\n\n![](https://bestblackfridaydeal.net/wp-content/uploads/2018/08/blackfriday-predictions-2018.jpg)",
      "metadata": {
        "papermill": {
          "duration": 0.036826,
          "end_time": "2021-02-05T14:38:47.888968",
          "exception": false,
          "start_time": "2021-02-05T14:38:47.852142",
          "status": "completed"
        },
        "tags": []
      }
    },
    {
      "cell_type": "markdown",
      "source": "# 1. import library",
      "metadata": {
        "papermill": {
          "duration": 0.038766,
          "end_time": "2021-02-05T14:38:47.964883",
          "exception": false,
          "start_time": "2021-02-05T14:38:47.926117",
          "status": "completed"
        },
        "tags": []
      }
    },
    {
      "cell_type": "code",
      "source": "# manipulation data\nimport pandas as pd\nimport numpy as np\n\n#visualiation data\nimport matplotlib.pyplot as plt\nimport seaborn as sns \nimport matplotlib\nimport plotly.graph_objects as go\nimport plotly.express as px\nfrom plotly.subplots import make_subplots\nfrom plotly.offline import init_notebook_mode, iplot\n\n#default theme\nplt.style.use('ggplot')\nsns.set(context='notebook', style='darkgrid', palette='colorblind', font='sans-serif', font_scale=1, rc=None)\nmatplotlib.rcParams['figure.figsize'] =[8,8]\nmatplotlib.rcParams.update({'font.size': 15})\nmatplotlib.rcParams['font.family'] = 'sans-serif'",
      "metadata": {
        "_cell_guid": "b1076dfc-b9ad-4769-8c92-a6c4dae69d19",
        "_uuid": "8f2839f25d086af736a60e9eeb907d3b93b6e0e5",
        "execution": {
          "iopub.execute_input": "2021-02-05T14:38:48.046453Z",
          "iopub.status.busy": "2021-02-05T14:38:48.045812Z",
          "iopub.status.idle": "2021-02-05T14:38:49.868889Z",
          "shell.execute_reply": "2021-02-05T14:38:49.867756Z"
        },
        "papermill": {
          "duration": 1.867128,
          "end_time": "2021-02-05T14:38:49.869103",
          "exception": false,
          "start_time": "2021-02-05T14:38:48.001975",
          "status": "completed"
        },
        "tags": []
      },
      "outputs": [],
      "execution_count": 1
    },
    {
      "cell_type": "markdown",
      "source": "# 2. data analysis",
      "metadata": {
        "papermill": {
          "duration": 0.037109,
          "end_time": "2021-02-05T14:38:49.944695",
          "exception": false,
          "start_time": "2021-02-05T14:38:49.907586",
          "status": "completed"
        },
        "tags": []
      }
    },
    {
      "cell_type": "code",
      "source": "train = pd.read_csv('../input/black-friday/train.csv')\ntest = pd.read_csv('../input/black-friday/test.csv')\ntrain.head(5)",
      "metadata": {
        "execution": {
          "iopub.execute_input": "2021-02-05T14:38:50.024254Z",
          "iopub.status.busy": "2021-02-05T14:38:50.023529Z",
          "iopub.status.idle": "2021-02-05T14:38:51.731508Z",
          "shell.execute_reply": "2021-02-05T14:38:51.732016Z"
        },
        "papermill": {
          "duration": 1.750071,
          "end_time": "2021-02-05T14:38:51.732186",
          "exception": false,
          "start_time": "2021-02-05T14:38:49.982115",
          "status": "completed"
        },
        "tags": []
      },
      "outputs": [
        {
          "data": {
            "text/html": [
              "<div>\n",
              "<style scoped>\n",
              "    .dataframe tbody tr th:only-of-type {\n",
              "        vertical-align: middle;\n",
              "    }\n",
              "\n",
              "    .dataframe tbody tr th {\n",
              "        vertical-align: top;\n",
              "    }\n",
              "\n",
              "    .dataframe thead th {\n",
              "        text-align: right;\n",
              "    }\n",
              "</style>\n",
              "<table border=\"1\" class=\"dataframe\">\n",
              "  <thead>\n",
              "    <tr style=\"text-align: right;\">\n",
              "      <th></th>\n",
              "      <th>User_ID</th>\n",
              "      <th>Product_ID</th>\n",
              "      <th>Gender</th>\n",
              "      <th>Age</th>\n",
              "      <th>Occupation</th>\n",
              "      <th>City_Category</th>\n",
              "      <th>Stay_In_Current_City_Years</th>\n",
              "      <th>Marital_Status</th>\n",
              "      <th>Product_Category_1</th>\n",
              "      <th>Product_Category_2</th>\n",
              "      <th>Product_Category_3</th>\n",
              "      <th>Purchase</th>\n",
              "    </tr>\n",
              "  </thead>\n",
              "  <tbody>\n",
              "    <tr>\n",
              "      <th>0</th>\n",
              "      <td>1000001</td>\n",
              "      <td>P00069042</td>\n",
              "      <td>F</td>\n",
              "      <td>0-17</td>\n",
              "      <td>10</td>\n",
              "      <td>A</td>\n",
              "      <td>2</td>\n",
              "      <td>0</td>\n",
              "      <td>3</td>\n",
              "      <td>NaN</td>\n",
              "      <td>NaN</td>\n",
              "      <td>8370</td>\n",
              "    </tr>\n",
              "    <tr>\n",
              "      <th>1</th>\n",
              "      <td>1000001</td>\n",
              "      <td>P00248942</td>\n",
              "      <td>F</td>\n",
              "      <td>0-17</td>\n",
              "      <td>10</td>\n",
              "      <td>A</td>\n",
              "      <td>2</td>\n",
              "      <td>0</td>\n",
              "      <td>1</td>\n",
              "      <td>6.0</td>\n",
              "      <td>14.0</td>\n",
              "      <td>15200</td>\n",
              "    </tr>\n",
              "    <tr>\n",
              "      <th>2</th>\n",
              "      <td>1000001</td>\n",
              "      <td>P00087842</td>\n",
              "      <td>F</td>\n",
              "      <td>0-17</td>\n",
              "      <td>10</td>\n",
              "      <td>A</td>\n",
              "      <td>2</td>\n",
              "      <td>0</td>\n",
              "      <td>12</td>\n",
              "      <td>NaN</td>\n",
              "      <td>NaN</td>\n",
              "      <td>1422</td>\n",
              "    </tr>\n",
              "    <tr>\n",
              "      <th>3</th>\n",
              "      <td>1000001</td>\n",
              "      <td>P00085442</td>\n",
              "      <td>F</td>\n",
              "      <td>0-17</td>\n",
              "      <td>10</td>\n",
              "      <td>A</td>\n",
              "      <td>2</td>\n",
              "      <td>0</td>\n",
              "      <td>12</td>\n",
              "      <td>14.0</td>\n",
              "      <td>NaN</td>\n",
              "      <td>1057</td>\n",
              "    </tr>\n",
              "    <tr>\n",
              "      <th>4</th>\n",
              "      <td>1000002</td>\n",
              "      <td>P00285442</td>\n",
              "      <td>M</td>\n",
              "      <td>55+</td>\n",
              "      <td>16</td>\n",
              "      <td>C</td>\n",
              "      <td>4+</td>\n",
              "      <td>0</td>\n",
              "      <td>8</td>\n",
              "      <td>NaN</td>\n",
              "      <td>NaN</td>\n",
              "      <td>7969</td>\n",
              "    </tr>\n",
              "  </tbody>\n",
              "</table>\n",
              "</div>"
            ],
            "text/plain": [
              "   User_ID Product_ID Gender   Age  Occupation City_Category  \\\n",
              "0  1000001  P00069042      F  0-17          10             A   \n",
              "1  1000001  P00248942      F  0-17          10             A   \n",
              "2  1000001  P00087842      F  0-17          10             A   \n",
              "3  1000001  P00085442      F  0-17          10             A   \n",
              "4  1000002  P00285442      M   55+          16             C   \n",
              "\n",
              "  Stay_In_Current_City_Years  Marital_Status  Product_Category_1  \\\n",
              "0                          2               0                   3   \n",
              "1                          2               0                   1   \n",
              "2                          2               0                  12   \n",
              "3                          2               0                  12   \n",
              "4                         4+               0                   8   \n",
              "\n",
              "   Product_Category_2  Product_Category_3  Purchase  \n",
              "0                 NaN                 NaN      8370  \n",
              "1                 6.0                14.0     15200  \n",
              "2                 NaN                 NaN      1422  \n",
              "3                14.0                 NaN      1057  \n",
              "4                 NaN                 NaN      7969  "
            ]
          },
          "execution_count": 2,
          "metadata": {},
          "output_type": "execute_result"
        }
      ],
      "execution_count": 2
    },
    {
      "cell_type": "code",
      "source": "train.shape",
      "metadata": {
        "execution": {
          "iopub.execute_input": "2021-02-05T14:38:51.813997Z",
          "iopub.status.busy": "2021-02-05T14:38:51.813274Z",
          "iopub.status.idle": "2021-02-05T14:38:51.817154Z",
          "shell.execute_reply": "2021-02-05T14:38:51.817719Z"
        },
        "papermill": {
          "duration": 0.047258,
          "end_time": "2021-02-05T14:38:51.817884",
          "exception": false,
          "start_time": "2021-02-05T14:38:51.770626",
          "status": "completed"
        },
        "tags": []
      },
      "outputs": [
        {
          "data": {
            "text/plain": [
              "(550068, 12)"
            ]
          },
          "execution_count": 3,
          "metadata": {},
          "output_type": "execute_result"
        }
      ],
      "execution_count": 3
    },
    {
      "cell_type": "markdown",
      "source": "like we c her we had \n* 550068 rows \n* 12 coluns",
      "metadata": {
        "papermill": {
          "duration": 0.038349,
          "end_time": "2021-02-05T14:38:51.895130",
          "exception": false,
          "start_time": "2021-02-05T14:38:51.856781",
          "status": "completed"
        },
        "tags": []
      }
    },
    {
      "cell_type": "code",
      "source": "train.info()",
      "metadata": {
        "execution": {
          "iopub.execute_input": "2021-02-05T14:38:51.978298Z",
          "iopub.status.busy": "2021-02-05T14:38:51.977703Z",
          "iopub.status.idle": "2021-02-05T14:38:52.272685Z",
          "shell.execute_reply": "2021-02-05T14:38:52.271797Z"
        },
        "papermill": {
          "duration": 0.339162,
          "end_time": "2021-02-05T14:38:52.272872",
          "exception": false,
          "start_time": "2021-02-05T14:38:51.933710",
          "status": "completed"
        },
        "tags": []
      },
      "outputs": [
        {
          "name": "stdout",
          "output_type": "stream",
          "text": [
            "<class 'pandas.core.frame.DataFrame'>\n",
            "RangeIndex: 550068 entries, 0 to 550067\n",
            "Data columns (total 12 columns):\n",
            " #   Column                      Non-Null Count   Dtype  \n",
            "---  ------                      --------------   -----  \n",
            " 0   User_ID                     550068 non-null  int64  \n",
            " 1   Product_ID                  550068 non-null  object \n",
            " 2   Gender                      550068 non-null  object \n",
            " 3   Age                         550068 non-null  object \n",
            " 4   Occupation                  550068 non-null  int64  \n",
            " 5   City_Category               550068 non-null  object \n",
            " 6   Stay_In_Current_City_Years  550068 non-null  object \n",
            " 7   Marital_Status              550068 non-null  int64  \n",
            " 8   Product_Category_1          550068 non-null  int64  \n",
            " 9   Product_Category_2          376430 non-null  float64\n",
            " 10  Product_Category_3          166821 non-null  float64\n",
            " 11  Purchase                    550068 non-null  int64  \n",
            "dtypes: float64(2), int64(5), object(5)\n",
            "memory usage: 50.4+ MB\n"
          ]
        }
      ],
      "execution_count": 4
    },
    {
      "cell_type": "code",
      "source": "train.dtypes.value_counts().plot.pie(explode=[0.1,0.1,0.1],autopct='%1.2f%%',shadow=True)\nplt.title('type of our data');",
      "metadata": {
        "execution": {
          "iopub.execute_input": "2021-02-05T14:38:52.356617Z",
          "iopub.status.busy": "2021-02-05T14:38:52.355860Z",
          "iopub.status.idle": "2021-02-05T14:38:52.550734Z",
          "shell.execute_reply": "2021-02-05T14:38:52.551209Z"
        },
        "papermill": {
          "duration": 0.239142,
          "end_time": "2021-02-05T14:38:52.551373",
          "exception": false,
          "start_time": "2021-02-05T14:38:52.312231",
          "status": "completed"
        },
        "tags": []
      },
      "outputs": [
        {
          "data": {
            "image/png": "[encoded data removed]",
            "text/plain": [
              "<Figure size 576x576 with 1 Axes>"
            ]
          },
          "metadata": {},
          "output_type": "display_data"
        }
      ],
      "execution_count": 5
    },
    {
      "cell_type": "code",
      "source": "# show the numirical values\n\nnum_columns = [f for f in train.columns if train.dtypes[f] != 'object']\nnum_columns.remove('Purchase')\nnum_columns.remove('User_ID')\nnum_columns",
      "metadata": {
        "execution": {
          "iopub.execute_input": "2021-02-05T14:38:52.636552Z",
          "iopub.status.busy": "2021-02-05T14:38:52.635538Z",
          "iopub.status.idle": "2021-02-05T14:38:52.643929Z",
          "shell.execute_reply": "2021-02-05T14:38:52.644420Z"
        },
        "papermill": {
          "duration": 0.052997,
          "end_time": "2021-02-05T14:38:52.644603",
          "exception": false,
          "start_time": "2021-02-05T14:38:52.591606",
          "status": "completed"
        },
        "tags": []
      },
      "outputs": [
        {
          "data": {
            "text/plain": [
              "['Occupation',\n",
              " 'Marital_Status',\n",
              " 'Product_Category_1',\n",
              " 'Product_Category_2',\n",
              " 'Product_Category_3']"
            ]
          },
          "execution_count": 6,
          "metadata": {},
          "output_type": "execute_result"
        }
      ],
      "execution_count": 6
    },
    {
      "cell_type": "code",
      "source": "# show the categorical values\n\ncat_columns = [f for f in train.columns if train.dtypes[f] == 'object']\ncat_columns",
      "metadata": {
        "execution": {
          "iopub.execute_input": "2021-02-05T14:38:52.731224Z",
          "iopub.status.busy": "2021-02-05T14:38:52.730169Z",
          "iopub.status.idle": "2021-02-05T14:38:52.738318Z",
          "shell.execute_reply": "2021-02-05T14:38:52.738785Z"
        },
        "papermill": {
          "duration": 0.053012,
          "end_time": "2021-02-05T14:38:52.738971",
          "exception": false,
          "start_time": "2021-02-05T14:38:52.685959",
          "status": "completed"
        },
        "tags": []
      },
      "outputs": [
        {
          "data": {
            "text/plain": [
              "['Product_ID', 'Gender', 'Age', 'City_Category', 'Stay_In_Current_City_Years']"
            ]
          },
          "execution_count": 7,
          "metadata": {},
          "output_type": "execute_result"
        }
      ],
      "execution_count": 7
    },
    {
      "cell_type": "code",
      "source": "train.describe(include='all')",
      "metadata": {
        "execution": {
          "iopub.execute_input": "2021-02-05T14:38:52.829143Z",
          "iopub.status.busy": "2021-02-05T14:38:52.828208Z",
          "iopub.status.idle": "2021-02-05T14:38:53.875468Z",
          "shell.execute_reply": "2021-02-05T14:38:53.874869Z"
        },
        "papermill": {
          "duration": 1.094419,
          "end_time": "2021-02-05T14:38:53.875601",
          "exception": false,
          "start_time": "2021-02-05T14:38:52.781182",
          "status": "completed"
        },
        "tags": []
      },
      "outputs": [
        {
          "data": {
            "text/html": [
              "<div>\n",
              "<style scoped>\n",
              "    .dataframe tbody tr th:only-of-type {\n",
              "        vertical-align: middle;\n",
              "    }\n",
              "\n",
              "    .dataframe tbody tr th {\n",
              "        vertical-align: top;\n",
              "    }\n",
              "\n",
              "    .dataframe thead th {\n",
              "        text-align: right;\n",
              "    }\n",
              "</style>\n",
              "<table border=\"1\" class=\"dataframe\">\n",
              "  <thead>\n",
              "    <tr style=\"text-align: right;\">\n",
              "      <th></th>\n",
              "      <th>User_ID</th>\n",
              "      <th>Product_ID</th>\n",
              "      <th>Gender</th>\n",
              "      <th>Age</th>\n",
              "      <th>Occupation</th>\n",
              "      <th>City_Category</th>\n",
              "      <th>Stay_In_Current_City_Years</th>\n",
              "      <th>Marital_Status</th>\n",
              "      <th>Product_Category_1</th>\n",
              "      <th>Product_Category_2</th>\n",
              "      <th>Product_Category_3</th>\n",
              "      <th>Purchase</th>\n",
              "    </tr>\n",
              "  </thead>\n",
              "  <tbody>\n",
              "    <tr>\n",
              "      <th>count</th>\n",
              "      <td>5.500680e+05</td>\n",
              "      <td>550068</td>\n",
              "      <td>550068</td>\n",
              "      <td>550068</td>\n",
              "      <td>550068.000000</td>\n",
              "      <td>550068</td>\n",
              "      <td>550068</td>\n",
              "      <td>550068.000000</td>\n",
              "      <td>550068.000000</td>\n",
              "      <td>376430.000000</td>\n",
              "      <td>166821.000000</td>\n",
              "      <td>550068.000000</td>\n",
              "    </tr>\n",
              "    <tr>\n",
              "      <th>unique</th>\n",
              "      <td>NaN</td>\n",
              "      <td>3631</td>\n",
              "      <td>2</td>\n",
              "      <td>7</td>\n",
              "      <td>NaN</td>\n",
              "      <td>3</td>\n",
              "      <td>5</td>\n",
              "      <td>NaN</td>\n",
              "      <td>NaN</td>\n",
              "      <td>NaN</td>\n",
              "      <td>NaN</td>\n",
              "      <td>NaN</td>\n",
              "    </tr>\n",
              "    <tr>\n",
              "      <th>top</th>\n",
              "      <td>NaN</td>\n",
              "      <td>P00265242</td>\n",
              "      <td>M</td>\n",
              "      <td>26-35</td>\n",
              "      <td>NaN</td>\n",
              "      <td>B</td>\n",
              "      <td>1</td>\n",
              "      <td>NaN</td>\n",
              "      <td>NaN</td>\n",
              "      <td>NaN</td>\n",
              "      <td>NaN</td>\n",
              "      <td>NaN</td>\n",
              "    </tr>\n",
              "    <tr>\n",
              "      <th>freq</th>\n",
              "      <td>NaN</td>\n",
              "      <td>1880</td>\n",
              "      <td>414259</td>\n",
              "      <td>219587</td>\n",
              "      <td>NaN</td>\n",
              "      <td>231173</td>\n",
              "      <td>193821</td>\n",
              "      <td>NaN</td>\n",
              "      <td>NaN</td>\n",
              "      <td>NaN</td>\n",
              "      <td>NaN</td>\n",
              "      <td>NaN</td>\n",
              "    </tr>\n",
              "    <tr>\n",
              "      <th>mean</th>\n",
              "      <td>1.003029e+06</td>\n",
              "      <td>NaN</td>\n",
              "      <td>NaN</td>\n",
              "      <td>NaN</td>\n",
              "      <td>8.076707</td>\n",
              "      <td>NaN</td>\n",
              "      <td>NaN</td>\n",
              "      <td>0.409653</td>\n",
              "      <td>5.404270</td>\n",
              "      <td>9.842329</td>\n",
              "      <td>12.668243</td>\n",
              "      <td>9263.968713</td>\n",
              "    </tr>\n",
              "    <tr>\n",
              "      <th>std</th>\n",
              "      <td>1.727592e+03</td>\n",
              "      <td>NaN</td>\n",
              "      <td>NaN</td>\n",
              "      <td>NaN</td>\n",
              "      <td>6.522660</td>\n",
              "      <td>NaN</td>\n",
              "      <td>NaN</td>\n",
              "      <td>0.491770</td>\n",
              "      <td>3.936211</td>\n",
              "      <td>5.086590</td>\n",
              "      <td>4.125338</td>\n",
              "      <td>5023.065394</td>\n",
              "    </tr>\n",
              "    <tr>\n",
              "      <th>min</th>\n",
              "      <td>1.000001e+06</td>\n",
              "      <td>NaN</td>\n",
              "      <td>NaN</td>\n",
              "      <td>NaN</td>\n",
              "      <td>0.000000</td>\n",
              "      <td>NaN</td>\n",
              "      <td>NaN</td>\n",
              "      <td>0.000000</td>\n",
              "      <td>1.000000</td>\n",
              "      <td>2.000000</td>\n",
              "      <td>3.000000</td>\n",
              "      <td>12.000000</td>\n",
              "    </tr>\n",
              "    <tr>\n",
              "      <th>25%</th>\n",
              "      <td>1.001516e+06</td>\n",
              "      <td>NaN</td>\n",
              "      <td>NaN</td>\n",
              "      <td>NaN</td>\n",
              "      <td>2.000000</td>\n",
              "      <td>NaN</td>\n",
              "      <td>NaN</td>\n",
              "      <td>0.000000</td>\n",
              "      <td>1.000000</td>\n",
              "      <td>5.000000</td>\n",
              "      <td>9.000000</td>\n",
              "      <td>5823.000000</td>\n",
              "    </tr>\n",
              "    <tr>\n",
              "      <th>50%</th>\n",
              "      <td>1.003077e+06</td>\n",
              "      <td>NaN</td>\n",
              "      <td>NaN</td>\n",
              "      <td>NaN</td>\n",
              "      <td>7.000000</td>\n",
              "      <td>NaN</td>\n",
              "      <td>NaN</td>\n",
              "      <td>0.000000</td>\n",
              "      <td>5.000000</td>\n",
              "      <td>9.000000</td>\n",
              "      <td>14.000000</td>\n",
              "      <td>8047.000000</td>\n",
              "    </tr>\n",
              "    <tr>\n",
              "      <th>75%</th>\n",
              "      <td>1.004478e+06</td>\n",
              "      <td>NaN</td>\n",
              "      <td>NaN</td>\n",
              "      <td>NaN</td>\n",
              "      <td>14.000000</td>\n",
              "      <td>NaN</td>\n",
              "      <td>NaN</td>\n",
              "      <td>1.000000</td>\n",
              "      <td>8.000000</td>\n",
              "      <td>15.000000</td>\n",
              "      <td>16.000000</td>\n",
              "      <td>12054.000000</td>\n",
              "    </tr>\n",
              "    <tr>\n",
              "      <th>max</th>\n",
              "      <td>1.006040e+06</td>\n",
              "      <td>NaN</td>\n",
              "      <td>NaN</td>\n",
              "      <td>NaN</td>\n",
              "      <td>20.000000</td>\n",
              "      <td>NaN</td>\n",
              "      <td>NaN</td>\n",
              "      <td>1.000000</td>\n",
              "      <td>20.000000</td>\n",
              "      <td>18.000000</td>\n",
              "      <td>18.000000</td>\n",
              "      <td>23961.000000</td>\n",
              "    </tr>\n",
              "  </tbody>\n",
              "</table>\n",
              "</div>"
            ],
            "text/plain": [
              "             User_ID Product_ID  Gender     Age     Occupation City_Category  \\\n",
              "count   5.500680e+05     550068  550068  550068  550068.000000        550068   \n",
              "unique           NaN       3631       2       7            NaN             3   \n",
              "top              NaN  P00265242       M   26-35            NaN             B   \n",
              "freq             NaN       1880  414259  219587            NaN        231173   \n",
              "mean    1.003029e+06        NaN     NaN     NaN       8.076707           NaN   \n",
              "std     1.727592e+03        NaN     NaN     NaN       6.522660           NaN   \n",
              "min     1.000001e+06        NaN     NaN     NaN       0.000000           NaN   \n",
              "25%     1.001516e+06        NaN     NaN     NaN       2.000000           NaN   \n",
              "50%     1.003077e+06        NaN     NaN     NaN       7.000000           NaN   \n",
              "75%     1.004478e+06        NaN     NaN     NaN      14.000000           NaN   \n",
              "max     1.006040e+06        NaN     NaN     NaN      20.000000           NaN   \n",
              "\n",
              "       Stay_In_Current_City_Years  Marital_Status  Product_Category_1  \\\n",
              "count                      550068   550068.000000       550068.000000   \n",
              "unique                          5             NaN                 NaN   \n",
              "top                             1             NaN                 NaN   \n",
              "freq                       193821             NaN                 NaN   \n",
              "mean                          NaN        0.409653            5.404270   \n",
              "std                           NaN        0.491770            3.936211   \n",
              "min                           NaN        0.000000            1.000000   \n",
              "25%                           NaN        0.000000            1.000000   \n",
              "50%                           NaN        0.000000            5.000000   \n",
              "75%                           NaN        1.000000            8.000000   \n",
              "max                           NaN        1.000000           20.000000   \n",
              "\n",
              "        Product_Category_2  Product_Category_3       Purchase  \n",
              "count        376430.000000       166821.000000  550068.000000  \n",
              "unique                 NaN                 NaN            NaN  \n",
              "top                    NaN                 NaN            NaN  \n",
              "freq                   NaN                 NaN            NaN  \n",
              "mean              9.842329           12.668243    9263.968713  \n",
              "std               5.086590            4.125338    5023.065394  \n",
              "min               2.000000            3.000000      12.000000  \n",
              "25%               5.000000            9.000000    5823.000000  \n",
              "50%               9.000000           14.000000    8047.000000  \n",
              "75%              15.000000           16.000000   12054.000000  \n",
              "max              18.000000           18.000000   23961.000000  "
            ]
          },
          "execution_count": 8,
          "metadata": {},
          "output_type": "execute_result"
        }
      ],
      "execution_count": 8
    },
    {
      "cell_type": "markdown",
      "source": "A basic observation is that:\n\n* Product P00265242 is the most popular product.\n* Most of the transactions were made by men.\n* Age group with most transactions was 26-35.\n* City Category with most transactions was B\n\nbut we will cover each of these in more depth later",
      "metadata": {
        "papermill": {
          "duration": 0.042419,
          "end_time": "2021-02-05T14:38:53.960748",
          "exception": false,
          "start_time": "2021-02-05T14:38:53.918329",
          "status": "completed"
        },
        "tags": []
      }
    },
    {
      "cell_type": "markdown",
      "source": "## finding missing values",
      "metadata": {
        "papermill": {
          "duration": 0.042326,
          "end_time": "2021-02-05T14:38:54.046213",
          "exception": false,
          "start_time": "2021-02-05T14:38:54.003887",
          "status": "completed"
        },
        "tags": []
      }
    },
    {
      "cell_type": "code",
      "source": "missing_values=train.isnull().sum()\npercent_missing = train.isnull().sum()/train.shape[0]*100\n\nvalue = {\n    'missing_values':missing_values,\n    'percent_missing':percent_missing\n}\nframe=pd.DataFrame(value)\nframe",
      "metadata": {
        "execution": {
          "iopub.execute_input": "2021-02-05T14:38:54.137642Z",
          "iopub.status.busy": "2021-02-05T14:38:54.136793Z",
          "iopub.status.idle": "2021-02-05T14:38:54.718385Z",
          "shell.execute_reply": "2021-02-05T14:38:54.717782Z"
        },
        "papermill": {
          "duration": 0.629434,
          "end_time": "2021-02-05T14:38:54.718528",
          "exception": false,
          "start_time": "2021-02-05T14:38:54.089094",
          "status": "completed"
        },
        "tags": []
      },
      "outputs": [
        {
          "data": {
            "text/html": [
              "<div>\n",
              "<style scoped>\n",
              "    .dataframe tbody tr th:only-of-type {\n",
              "        vertical-align: middle;\n",
              "    }\n",
              "\n",
              "    .dataframe tbody tr th {\n",
              "        vertical-align: top;\n",
              "    }\n",
              "\n",
              "    .dataframe thead th {\n",
              "        text-align: right;\n",
              "    }\n",
              "</style>\n",
              "<table border=\"1\" class=\"dataframe\">\n",
              "  <thead>\n",
              "    <tr style=\"text-align: right;\">\n",
              "      <th></th>\n",
              "      <th>missing_values</th>\n",
              "      <th>percent_missing</th>\n",
              "    </tr>\n",
              "  </thead>\n",
              "  <tbody>\n",
              "    <tr>\n",
              "      <th>User_ID</th>\n",
              "      <td>0</td>\n",
              "      <td>0.000000</td>\n",
              "    </tr>\n",
              "    <tr>\n",
              "      <th>Product_ID</th>\n",
              "      <td>0</td>\n",
              "      <td>0.000000</td>\n",
              "    </tr>\n",
              "    <tr>\n",
              "      <th>Gender</th>\n",
              "      <td>0</td>\n",
              "      <td>0.000000</td>\n",
              "    </tr>\n",
              "    <tr>\n",
              "      <th>Age</th>\n",
              "      <td>0</td>\n",
              "      <td>0.000000</td>\n",
              "    </tr>\n",
              "    <tr>\n",
              "      <th>Occupation</th>\n",
              "      <td>0</td>\n",
              "      <td>0.000000</td>\n",
              "    </tr>\n",
              "    <tr>\n",
              "      <th>City_Category</th>\n",
              "      <td>0</td>\n",
              "      <td>0.000000</td>\n",
              "    </tr>\n",
              "    <tr>\n",
              "      <th>Stay_In_Current_City_Years</th>\n",
              "      <td>0</td>\n",
              "      <td>0.000000</td>\n",
              "    </tr>\n",
              "    <tr>\n",
              "      <th>Marital_Status</th>\n",
              "      <td>0</td>\n",
              "      <td>0.000000</td>\n",
              "    </tr>\n",
              "    <tr>\n",
              "      <th>Product_Category_1</th>\n",
              "      <td>0</td>\n",
              "      <td>0.000000</td>\n",
              "    </tr>\n",
              "    <tr>\n",
              "      <th>Product_Category_2</th>\n",
              "      <td>173638</td>\n",
              "      <td>31.566643</td>\n",
              "    </tr>\n",
              "    <tr>\n",
              "      <th>Product_Category_3</th>\n",
              "      <td>383247</td>\n",
              "      <td>69.672659</td>\n",
              "    </tr>\n",
              "    <tr>\n",
              "      <th>Purchase</th>\n",
              "      <td>0</td>\n",
              "      <td>0.000000</td>\n",
              "    </tr>\n",
              "  </tbody>\n",
              "</table>\n",
              "</div>"
            ],
            "text/plain": [
              "                            missing_values  percent_missing\n",
              "User_ID                                  0         0.000000\n",
              "Product_ID                               0         0.000000\n",
              "Gender                                   0         0.000000\n",
              "Age                                      0         0.000000\n",
              "Occupation                               0         0.000000\n",
              "City_Category                            0         0.000000\n",
              "Stay_In_Current_City_Years               0         0.000000\n",
              "Marital_Status                           0         0.000000\n",
              "Product_Category_1                       0         0.000000\n",
              "Product_Category_2                  173638        31.566643\n",
              "Product_Category_3                  383247        69.672659\n",
              "Purchase                                 0         0.000000"
            ]
          },
          "execution_count": 9,
          "metadata": {},
          "output_type": "execute_result"
        }
      ],
      "execution_count": 9
    },
    {
      "cell_type": "code",
      "source": "missing_values = train.isnull().sum()\nmissing_values = missing_values[missing_values > 0]\nmissing_values.sort_values(inplace=True)\nmissing_values.plot.pie(explode=[0.1,0.1],autopct='%1.1f%%',shadow=True)\nplt.title('our missing values');",
      "metadata": {
        "execution": {
          "iopub.execute_input": "2021-02-05T14:38:54.810544Z",
          "iopub.status.busy": "2021-02-05T14:38:54.809712Z",
          "iopub.status.idle": "2021-02-05T14:38:55.211922Z",
          "shell.execute_reply": "2021-02-05T14:38:55.211395Z"
        },
        "papermill": {
          "duration": 0.450622,
          "end_time": "2021-02-05T14:38:55.212065",
          "exception": false,
          "start_time": "2021-02-05T14:38:54.761443",
          "status": "completed"
        },
        "tags": []
      },
      "outputs": [
        {
          "data": {
            "image/png": "[encoded data removed]",
            "text/plain": [
              "<Figure size 576x576 with 1 Axes>"
            ]
          },
          "metadata": {},
          "output_type": "display_data"
        }
      ],
      "execution_count": 10
    },
    {
      "cell_type": "markdown",
      "source": "Only Product_Category_2 and Product_Category_3 have null values which is good news. \nHowever Product_Category_3 is null for nearly 70% of transactions so it can't give us much information.\nso we gonna drop Product_Category_3",
      "metadata": {
        "papermill": {
          "duration": 0.044649,
          "end_time": "2021-02-05T14:38:55.301843",
          "exception": false,
          "start_time": "2021-02-05T14:38:55.257194",
          "status": "completed"
        },
        "tags": []
      }
    },
    {
      "cell_type": "markdown",
      "source": "#### Product_Category_2",
      "metadata": {
        "papermill": {
          "duration": 0.044364,
          "end_time": "2021-02-05T14:38:55.391182",
          "exception": false,
          "start_time": "2021-02-05T14:38:55.346818",
          "status": "completed"
        },
        "tags": []
      }
    },
    {
      "cell_type": "code",
      "source": "train.Product_Category_2.value_counts()",
      "metadata": {
        "execution": {
          "iopub.execute_input": "2021-02-05T14:38:55.485756Z",
          "iopub.status.busy": "2021-02-05T14:38:55.484861Z",
          "iopub.status.idle": "2021-02-05T14:38:55.501260Z",
          "shell.execute_reply": "2021-02-05T14:38:55.500613Z"
        },
        "papermill": {
          "duration": 0.065426,
          "end_time": "2021-02-05T14:38:55.501394",
          "exception": false,
          "start_time": "2021-02-05T14:38:55.435968",
          "status": "completed"
        },
        "tags": []
      },
      "outputs": [
        {
          "data": {
            "text/plain": [
              "8.0     64088\n",
              "14.0    55108\n",
              "2.0     49217\n",
              "16.0    43255\n",
              "15.0    37855\n",
              "5.0     26235\n",
              "4.0     25677\n",
              "6.0     16466\n",
              "11.0    14134\n",
              "17.0    13320\n",
              "13.0    10531\n",
              "9.0      5693\n",
              "12.0     5528\n",
              "10.0     3043\n",
              "3.0      2884\n",
              "18.0     2770\n",
              "7.0       626\n",
              "Name: Product_Category_2, dtype: int64"
            ]
          },
          "execution_count": 11,
          "metadata": {},
          "output_type": "execute_result"
        }
      ],
      "execution_count": 11
    },
    {
      "cell_type": "code",
      "source": "train.Product_Category_2.describe()",
      "metadata": {
        "execution": {
          "iopub.execute_input": "2021-02-05T14:38:55.596339Z",
          "iopub.status.busy": "2021-02-05T14:38:55.595736Z",
          "iopub.status.idle": "2021-02-05T14:38:55.628023Z",
          "shell.execute_reply": "2021-02-05T14:38:55.627380Z"
        },
        "papermill": {
          "duration": 0.081783,
          "end_time": "2021-02-05T14:38:55.628173",
          "exception": false,
          "start_time": "2021-02-05T14:38:55.546390",
          "status": "completed"
        },
        "tags": []
      },
      "outputs": [
        {
          "data": {
            "text/plain": [
              "count    376430.000000\n",
              "mean          9.842329\n",
              "std           5.086590\n",
              "min           2.000000\n",
              "25%           5.000000\n",
              "50%           9.000000\n",
              "75%          15.000000\n",
              "max          18.000000\n",
              "Name: Product_Category_2, dtype: float64"
            ]
          },
          "execution_count": 12,
          "metadata": {},
          "output_type": "execute_result"
        }
      ],
      "execution_count": 12
    },
    {
      "cell_type": "code",
      "source": "# Replace using median \nmedian = train['Product_Category_2'].median()\ntrain['Product_Category_2'].fillna(median, inplace=True)",
      "metadata": {
        "execution": {
          "iopub.execute_input": "2021-02-05T14:38:55.724890Z",
          "iopub.status.busy": "2021-02-05T14:38:55.723944Z",
          "iopub.status.idle": "2021-02-05T14:38:55.738107Z",
          "shell.execute_reply": "2021-02-05T14:38:55.737481Z"
        },
        "papermill": {
          "duration": 0.064222,
          "end_time": "2021-02-05T14:38:55.738250",
          "exception": false,
          "start_time": "2021-02-05T14:38:55.674028",
          "status": "completed"
        },
        "tags": []
      },
      "outputs": [],
      "execution_count": 13
    },
    {
      "cell_type": "markdown",
      "source": "#### Product_Category_3",
      "metadata": {
        "papermill": {
          "duration": 0.044672,
          "end_time": "2021-02-05T14:38:55.828490",
          "exception": false,
          "start_time": "2021-02-05T14:38:55.783818",
          "status": "completed"
        },
        "tags": []
      }
    },
    {
      "cell_type": "code",
      "source": "train.Product_Category_3.value_counts()",
      "metadata": {
        "execution": {
          "iopub.execute_input": "2021-02-05T14:38:55.923542Z",
          "iopub.status.busy": "2021-02-05T14:38:55.922606Z",
          "iopub.status.idle": "2021-02-05T14:38:55.936617Z",
          "shell.execute_reply": "2021-02-05T14:38:55.937074Z"
        },
        "papermill": {
          "duration": 0.063964,
          "end_time": "2021-02-05T14:38:55.937254",
          "exception": false,
          "start_time": "2021-02-05T14:38:55.873290",
          "status": "completed"
        },
        "tags": []
      },
      "outputs": [
        {
          "data": {
            "text/plain": [
              "16.0    32636\n",
              "15.0    28013\n",
              "14.0    18428\n",
              "17.0    16702\n",
              "5.0     16658\n",
              "8.0     12562\n",
              "9.0     11579\n",
              "12.0     9246\n",
              "13.0     5459\n",
              "6.0      4890\n",
              "18.0     4629\n",
              "4.0      1875\n",
              "11.0     1805\n",
              "10.0     1726\n",
              "3.0       613\n",
              "Name: Product_Category_3, dtype: int64"
            ]
          },
          "execution_count": 14,
          "metadata": {},
          "output_type": "execute_result"
        }
      ],
      "execution_count": 14
    },
    {
      "cell_type": "code",
      "source": "# drop Product_Category_3 \ntrain=train.drop('Product_Category_3',axis=1)",
      "metadata": {
        "execution": {
          "iopub.execute_input": "2021-02-05T14:38:56.074796Z",
          "iopub.status.busy": "2021-02-05T14:38:56.073876Z",
          "iopub.status.idle": "2021-02-05T14:38:56.077558Z",
          "shell.execute_reply": "2021-02-05T14:38:56.077013Z"
        },
        "papermill": {
          "duration": 0.093098,
          "end_time": "2021-02-05T14:38:56.077708",
          "exception": false,
          "start_time": "2021-02-05T14:38:55.984610",
          "status": "completed"
        },
        "tags": []
      },
      "outputs": [],
      "execution_count": 15
    },
    {
      "cell_type": "code",
      "source": "missing_values=train.isnull().sum()\npercent_missing = train.isnull().sum()/train.shape[0]*100\n\nvalue = {\n    'missing_values':missing_values,\n    'percent_missing':percent_missing\n}\nframe=pd.DataFrame(value)\nframe",
      "metadata": {
        "execution": {
          "iopub.execute_input": "2021-02-05T14:38:56.176448Z",
          "iopub.status.busy": "2021-02-05T14:38:56.175808Z",
          "iopub.status.idle": "2021-02-05T14:38:56.749400Z",
          "shell.execute_reply": "2021-02-05T14:38:56.749895Z"
        },
        "papermill": {
          "duration": 0.625685,
          "end_time": "2021-02-05T14:38:56.750097",
          "exception": false,
          "start_time": "2021-02-05T14:38:56.124412",
          "status": "completed"
        },
        "tags": []
      },
      "outputs": [
        {
          "data": {
            "text/html": [
              "<div>\n",
              "<style scoped>\n",
              "    .dataframe tbody tr th:only-of-type {\n",
              "        vertical-align: middle;\n",
              "    }\n",
              "\n",
              "    .dataframe tbody tr th {\n",
              "        vertical-align: top;\n",
              "    }\n",
              "\n",
              "    .dataframe thead th {\n",
              "        text-align: right;\n",
              "    }\n",
              "</style>\n",
              "<table border=\"1\" class=\"dataframe\">\n",
              "  <thead>\n",
              "    <tr style=\"text-align: right;\">\n",
              "      <th></th>\n",
              "      <th>missing_values</th>\n",
              "      <th>percent_missing</th>\n",
              "    </tr>\n",
              "  </thead>\n",
              "  <tbody>\n",
              "    <tr>\n",
              "      <th>User_ID</th>\n",
              "      <td>0</td>\n",
              "      <td>0.0</td>\n",
              "    </tr>\n",
              "    <tr>\n",
              "      <th>Product_ID</th>\n",
              "      <td>0</td>\n",
              "      <td>0.0</td>\n",
              "    </tr>\n",
              "    <tr>\n",
              "      <th>Gender</th>\n",
              "      <td>0</td>\n",
              "      <td>0.0</td>\n",
              "    </tr>\n",
              "    <tr>\n",
              "      <th>Age</th>\n",
              "      <td>0</td>\n",
              "      <td>0.0</td>\n",
              "    </tr>\n",
              "    <tr>\n",
              "      <th>Occupation</th>\n",
              "      <td>0</td>\n",
              "      <td>0.0</td>\n",
              "    </tr>\n",
              "    <tr>\n",
              "      <th>City_Category</th>\n",
              "      <td>0</td>\n",
              "      <td>0.0</td>\n",
              "    </tr>\n",
              "    <tr>\n",
              "      <th>Stay_In_Current_City_Years</th>\n",
              "      <td>0</td>\n",
              "      <td>0.0</td>\n",
              "    </tr>\n",
              "    <tr>\n",
              "      <th>Marital_Status</th>\n",
              "      <td>0</td>\n",
              "      <td>0.0</td>\n",
              "    </tr>\n",
              "    <tr>\n",
              "      <th>Product_Category_1</th>\n",
              "      <td>0</td>\n",
              "      <td>0.0</td>\n",
              "    </tr>\n",
              "    <tr>\n",
              "      <th>Product_Category_2</th>\n",
              "      <td>0</td>\n",
              "      <td>0.0</td>\n",
              "    </tr>\n",
              "    <tr>\n",
              "      <th>Purchase</th>\n",
              "      <td>0</td>\n",
              "      <td>0.0</td>\n",
              "    </tr>\n",
              "  </tbody>\n",
              "</table>\n",
              "</div>"
            ],
            "text/plain": [
              "                            missing_values  percent_missing\n",
              "User_ID                                  0              0.0\n",
              "Product_ID                               0              0.0\n",
              "Gender                                   0              0.0\n",
              "Age                                      0              0.0\n",
              "Occupation                               0              0.0\n",
              "City_Category                            0              0.0\n",
              "Stay_In_Current_City_Years               0              0.0\n",
              "Marital_Status                           0              0.0\n",
              "Product_Category_1                       0              0.0\n",
              "Product_Category_2                       0              0.0\n",
              "Purchase                                 0              0.0"
            ]
          },
          "execution_count": 16,
          "metadata": {},
          "output_type": "execute_result"
        }
      ],
      "execution_count": 16
    },
    {
      "cell_type": "markdown",
      "source": "# 3. data visualization",
      "metadata": {
        "papermill": {
          "duration": 0.046898,
          "end_time": "2021-02-05T14:38:56.844474",
          "exception": false,
          "start_time": "2021-02-05T14:38:56.797576",
          "status": "completed"
        },
        "tags": []
      }
    },
    {
      "cell_type": "code",
      "source": "train.hist(edgecolor='black',figsize=(12,12));",
      "metadata": {
        "execution": {
          "iopub.execute_input": "2021-02-05T14:38:56.943787Z",
          "iopub.status.busy": "2021-02-05T14:38:56.942815Z",
          "iopub.status.idle": "2021-02-05T14:38:58.181218Z",
          "shell.execute_reply": "2021-02-05T14:38:58.181756Z"
        },
        "papermill": {
          "duration": 1.289335,
          "end_time": "2021-02-05T14:38:58.181940",
          "exception": false,
          "start_time": "2021-02-05T14:38:56.892605",
          "status": "completed"
        },
        "tags": []
      },
      "outputs": [
        {
          "data": {
            "image/png": "[encoded data removed]",
            "text/plain": [
              "<Figure size 864x864 with 6 Axes>"
            ]
          },
          "metadata": {},
          "output_type": "display_data"
        }
      ],
      "execution_count": 17
    },
    {
      "cell_type": "code",
      "source": "train.columns",
      "metadata": {
        "execution": {
          "iopub.execute_input": "2021-02-05T14:38:58.287732Z",
          "iopub.status.busy": "2021-02-05T14:38:58.287029Z",
          "iopub.status.idle": "2021-02-05T14:38:58.290009Z",
          "shell.execute_reply": "2021-02-05T14:38:58.290511Z"
        },
        "papermill": {
          "duration": 0.058541,
          "end_time": "2021-02-05T14:38:58.290685",
          "exception": false,
          "start_time": "2021-02-05T14:38:58.232144",
          "status": "completed"
        },
        "tags": []
      },
      "outputs": [
        {
          "data": {
            "text/plain": [
              "Index(['User_ID', 'Product_ID', 'Gender', 'Age', 'Occupation', 'City_Category',\n",
              "       'Stay_In_Current_City_Years', 'Marital_Status', 'Product_Category_1',\n",
              "       'Product_Category_2', 'Purchase'],\n",
              "      dtype='object')"
            ]
          },
          "execution_count": 18,
          "metadata": {},
          "output_type": "execute_result"
        }
      ],
      "execution_count": 18
    },
    {
      "cell_type": "markdown",
      "source": "### A) Gender",
      "metadata": {
        "papermill": {
          "duration": 0.048072,
          "end_time": "2021-02-05T14:38:58.387410",
          "exception": false,
          "start_time": "2021-02-05T14:38:58.339338",
          "status": "completed"
        },
        "tags": []
      }
    },
    {
      "cell_type": "code",
      "source": "# pie chart \n\nsize = train['Gender'].value_counts()\nlabels = ['Male', 'Female']\ncolors = ['#C4061D', 'green']\nexplode = [0, 0.1]\n\nplt.rcParams['figure.figsize'] = (10, 10)\nplt.pie(size, colors = colors, labels = labels, shadow = True, explode = explode, autopct = '%.2f%%')\nplt.title('A Pie Chart representing the gender gap', fontsize = 20)\nplt.axis('off')\nplt.legend()\nplt.show()",
      "metadata": {
        "execution": {
          "iopub.execute_input": "2021-02-05T14:38:58.611960Z",
          "iopub.status.busy": "2021-02-05T14:38:58.609710Z",
          "iopub.status.idle": "2021-02-05T14:38:58.974068Z",
          "shell.execute_reply": "2021-02-05T14:38:58.974545Z"
        },
        "papermill": {
          "duration": 0.538357,
          "end_time": "2021-02-05T14:38:58.974752",
          "exception": false,
          "start_time": "2021-02-05T14:38:58.436395",
          "status": "completed"
        },
        "tags": []
      },
      "outputs": [
        {
          "data": {
            "image/png": "[encoded data removed]",
            "text/plain": [
              "<Figure size 720x720 with 1 Axes>"
            ]
          },
          "metadata": {},
          "output_type": "display_data"
        }
      ],
      "execution_count": 19
    },
    {
      "cell_type": "code",
      "source": "sns.countplot(x=train.Gender)\nplt.title('Gender per transaction');",
      "metadata": {
        "execution": {
          "iopub.execute_input": "2021-02-05T14:38:59.138629Z",
          "iopub.status.busy": "2021-02-05T14:38:59.137951Z",
          "iopub.status.idle": "2021-02-05T14:38:59.838171Z",
          "shell.execute_reply": "2021-02-05T14:38:59.837508Z"
        },
        "papermill": {
          "duration": 0.810771,
          "end_time": "2021-02-05T14:38:59.838313",
          "exception": false,
          "start_time": "2021-02-05T14:38:59.027542",
          "status": "completed"
        },
        "tags": []
      },
      "outputs": [
        {
          "data": {
            "image/png": "[encoded data removed]",
            "text/plain": [
              "<Figure size 720x720 with 1 Axes>"
            ]
          },
          "metadata": {},
          "output_type": "display_data"
        }
      ],
      "execution_count": 20
    },
    {
      "cell_type": "markdown",
      "source": "### B) Age",
      "metadata": {
        "papermill": {
          "duration": 0.052482,
          "end_time": "2021-02-05T14:38:59.943561",
          "exception": false,
          "start_time": "2021-02-05T14:38:59.891079",
          "status": "completed"
        },
        "tags": []
      }
    },
    {
      "cell_type": "code",
      "source": "ageData = sorted(list(zip(train.Age.value_counts().index, train.Age.value_counts().values)))\nage, productBuy = zip(*ageData)\nage, productBuy = list(age), list(productBuy)\nageSeries = pd.Series((i for i in age))\n\ndata = [go.Bar(x=age, \n               y=productBuy, \n               name=\"How many products were sold\",\n               marker = dict(color=['black', 'yellow', 'green', 'blue', 'red', 'gray', '#C4061D'],\n                            line = dict(color='#7C7C7C', width = .5)),\n              text=\"Age: \" + ageSeries)]\nlayout = go.Layout(title= \"How many products were sold by ages\")\nfig = go.Figure(data=data, layout=layout)\niplot(fig)",
      "metadata": {
        "execution": {
          "iopub.execute_input": "2021-02-05T14:39:00.189030Z",
          "iopub.status.busy": "2021-02-05T14:39:00.134498Z",
          "iopub.status.idle": "2021-02-05T14:39:01.289636Z",
          "shell.execute_reply": "2021-02-05T14:39:01.289089Z"
        },
        "papermill": {
          "duration": 1.293555,
          "end_time": "2021-02-05T14:39:01.289820",
          "exception": false,
          "start_time": "2021-02-05T14:38:59.996265",
          "status": "completed"
        },
        "tags": []
      },
      "outputs": [
        {
          "data": {
            "text/html": [
              "        <script type=\"text/javascript\">\n",
              "        window.PlotlyConfig = {MathJaxConfig: 'local'};\n",
              "        if (window.MathJax) {MathJax.Hub.Config({SVG: {font: \"STIX-Web\"}});}\n",
              "        if (typeof require !== 'undefined') {\n",
              "        require.undef(\"plotly\");\n",
              "        requirejs.config({\n",
              "            paths: {\n",
              "                'plotly': ['https://cdn.plot.ly/plotly-latest.min']\n",
              "            }\n",
              "        });\n",
              "        require(['plotly'], function(Plotly) {\n",
              "            window._Plotly = Plotly;\n",
              "        });\n",
              "        }\n",
              "        </script>\n",
              "        "
            ]
          },
          "metadata": {},
          "output_type": "display_data"
        },
        {
          "data": {
            "text/html": [
              "<div>                            <div id=\"352c1c97-cb0b-4de6-83fc-3ea1fd80e4ea\" class=\"plotly-graph-div\" style=\"height:525px; width:100%;\"></div>            <script type=\"text/javascript\">                require([\"plotly\"], function(Plotly) {                    window.PLOTLYENV=window.PLOTLYENV || {};                                    if (document.getElementById(\"352c1c97-cb0b-4de6-83fc-3ea1fd80e4ea\")) {                    Plotly.newPlot(                        \"352c1c97-cb0b-4de6-83fc-3ea1fd80e4ea\",                        [{\"marker\": {\"color\": [\"black\", \"yellow\", \"green\", \"blue\", \"red\", \"gray\", \"#C4061D\"], \"line\": {\"color\": \"#7C7C7C\", \"width\": 0.5}}, \"name\": \"How many products were sold\", \"text\": [\"Age: 0-17\", \"Age: 18-25\", \"Age: 26-35\", \"Age: 36-45\", \"Age: 46-50\", \"Age: 51-55\", \"Age: 55+\"], \"type\": \"bar\", \"x\": [\"0-17\", \"18-25\", \"26-35\", \"36-45\", \"46-50\", \"51-55\", \"55+\"], \"y\": [15102, 99660, 219587, 110013, 45701, 38501, 21504]}],                        {\"template\": {\"data\": {\"bar\": [{\"error_x\": {\"color\": \"#2a3f5f\"}, \"error_y\": {\"color\": \"#2a3f5f\"}, \"marker\": {\"line\": {\"color\": \"#E5ECF6\", \"width\": 0.5}}, \"type\": \"bar\"}], \"barpolar\": [{\"marker\": {\"line\": {\"color\": \"#E5ECF6\", \"width\": 0.5}}, \"type\": \"barpolar\"}], \"carpet\": [{\"aaxis\": {\"endlinecolor\": \"#2a3f5f\", \"gridcolor\": \"white\", \"linecolor\": \"white\", \"minorgridcolor\": \"white\", \"startlinecolor\": \"#2a3f5f\"}, \"baxis\": {\"endlinecolor\": \"#2a3f5f\", \"gridcolor\": \"white\", \"linecolor\": \"white\", \"minorgridcolor\": \"white\", \"startlinecolor\": \"#2a3f5f\"}, \"type\": \"carpet\"}], \"choropleth\": [{\"colorbar\": {\"outlinewidth\": 0, \"ticks\": \"\"}, \"type\": \"choropleth\"}], \"contour\": [{\"colorbar\": {\"outlinewidth\": 0, \"ticks\": \"\"}, \"colorscale\": [[0.0, \"#0d0887\"], [0.1111111111111111, \"#46039f\"], [0.2222222222222222, \"#7201a8\"], [0.3333333333333333, \"#9c179e\"], [0.4444444444444444, \"#bd3786\"], [0.5555555555555556, \"#d8576b\"], [0.6666666666666666, \"#ed7953\"], [0.7777777777777778, \"#fb9f3a\"], [0.8888888888888888, \"#fdca26\"], [1.0, \"#f0f921\"]], \"type\": \"contour\"}], \"contourcarpet\": [{\"colorbar\": {\"outlinewidth\": 0, \"ticks\": \"\"}, \"type\": \"contourcarpet\"}], \"heatmap\": [{\"colorbar\": {\"outlinewidth\": 0, \"ticks\": \"\"}, \"colorscale\": [[0.0, \"#0d0887\"], [0.1111111111111111, \"#46039f\"], [0.2222222222222222, \"#7201a8\"], [0.3333333333333333, \"#9c179e\"], [0.4444444444444444, \"#bd3786\"], [0.5555555555555556, \"#d8576b\"], [0.6666666666666666, \"#ed7953\"], [0.7777777777777778, \"#fb9f3a\"], [0.8888888888888888, \"#fdca26\"], [1.0, \"#f0f921\"]], \"type\": \"heatmap\"}], \"heatmapgl\": [{\"colorbar\": {\"outlinewidth\": 0, \"ticks\": \"\"}, \"colorscale\": [[0.0, \"#0d0887\"], [0.1111111111111111, \"#46039f\"], [0.2222222222222222, \"#7201a8\"], [0.3333333333333333, \"#9c179e\"], [0.4444444444444444, \"#bd3786\"], [0.5555555555555556, \"#d8576b\"], [0.6666666666666666, \"#ed7953\"], [0.7777777777777778, \"#fb9f3a\"], [0.8888888888888888, \"#fdca26\"], [1.0, \"#f0f921\"]], \"type\": \"heatmapgl\"}], \"histogram\": [{\"marker\": {\"colorbar\": {\"outlinewidth\": 0, \"ticks\": \"\"}}, \"type\": \"histogram\"}], \"histogram2d\": [{\"colorbar\": {\"outlinewidth\": 0, \"ticks\": \"\"}, \"colorscale\": [[0.0, \"#0d0887\"], [0.1111111111111111, \"#46039f\"], [0.2222222222222222, \"#7201a8\"], [0.3333333333333333, \"#9c179e\"], [0.4444444444444444, \"#bd3786\"], [0.5555555555555556, \"#d8576b\"], [0.6666666666666666, \"#ed7953\"], [0.7777777777777778, \"#fb9f3a\"], [0.8888888888888888, \"#fdca26\"], [1.0, \"#f0f921\"]], \"type\": \"histogram2d\"}], \"histogram2dcontour\": [{\"colorbar\": {\"outlinewidth\": 0, \"ticks\": \"\"}, \"colorscale\": [[0.0, \"#0d0887\"], [0.1111111111111111, \"#46039f\"], [0.2222222222222222, \"#7201a8\"], [0.3333333333333333, \"#9c179e\"], [0.4444444444444444, \"#bd3786\"], [0.5555555555555556, \"#d8576b\"], [0.6666666666666666, \"#ed7953\"], [0.7777777777777778, \"#fb9f3a\"], [0.8888888888888888, \"#fdca26\"], [1.0, \"#f0f921\"]], \"type\": \"histogram2dcontour\"}], \"mesh3d\": [{\"colorbar\": {\"outlinewidth\": 0, \"ticks\": \"\"}, \"type\": \"mesh3d\"}], \"parcoords\": [{\"line\": {\"colorbar\": {\"outlinewidth\": 0, \"ticks\": \"\"}}, \"type\": \"parcoords\"}], \"pie\": [{\"automargin\": true, \"type\": \"pie\"}], \"scatter\": [{\"marker\": {\"colorbar\": {\"outlinewidth\": 0, \"ticks\": \"\"}}, \"type\": \"scatter\"}], \"scatter3d\": [{\"line\": {\"colorbar\": {\"outlinewidth\": 0, \"ticks\": \"\"}}, \"marker\": {\"colorbar\": {\"outlinewidth\": 0, \"ticks\": \"\"}}, \"type\": \"scatter3d\"}], \"scattercarpet\": [{\"marker\": {\"colorbar\": {\"outlinewidth\": 0, \"ticks\": \"\"}}, \"type\": \"scattercarpet\"}], \"scattergeo\": [{\"marker\": {\"colorbar\": {\"outlinewidth\": 0, \"ticks\": \"\"}}, \"type\": \"scattergeo\"}], \"scattergl\": [{\"marker\": {\"colorbar\": {\"outlinewidth\": 0, \"ticks\": \"\"}}, \"type\": \"scattergl\"}], \"scattermapbox\": [{\"marker\": {\"colorbar\": {\"outlinewidth\": 0, \"ticks\": \"\"}}, \"type\": \"scattermapbox\"}], \"scatterpolar\": [{\"marker\": {\"colorbar\": {\"outlinewidth\": 0, \"ticks\": \"\"}}, \"type\": \"scatterpolar\"}], \"scatterpolargl\": [{\"marker\": {\"colorbar\": {\"outlinewidth\": 0, \"ticks\": \"\"}}, \"type\": \"scatterpolargl\"}], \"scatterternary\": [{\"marker\": {\"colorbar\": {\"outlinewidth\": 0, \"ticks\": \"\"}}, \"type\": \"scatterternary\"}], \"surface\": [{\"colorbar\": {\"outlinewidth\": 0, \"ticks\": \"\"}, \"colorscale\": [[0.0, \"#0d0887\"], [0.1111111111111111, \"#46039f\"], [0.2222222222222222, \"#7201a8\"], [0.3333333333333333, \"#9c179e\"], [0.4444444444444444, \"#bd3786\"], [0.5555555555555556, \"#d8576b\"], [0.6666666666666666, \"#ed7953\"], [0.7777777777777778, \"#fb9f3a\"], [0.8888888888888888, \"#fdca26\"], [1.0, \"#f0f921\"]], \"type\": \"surface\"}], \"table\": [{\"cells\": {\"fill\": {\"color\": \"#EBF0F8\"}, \"line\": {\"color\": \"white\"}}, \"header\": {\"fill\": {\"color\": \"#C8D4E3\"}, \"line\": {\"color\": \"white\"}}, \"type\": \"table\"}]}, \"layout\": {\"annotationdefaults\": {\"arrowcolor\": \"#2a3f5f\", \"arrowhead\": 0, \"arrowwidth\": 1}, \"autotypenumbers\": \"strict\", \"coloraxis\": {\"colorbar\": {\"outlinewidth\": 0, \"ticks\": \"\"}}, \"colorscale\": {\"diverging\": [[0, \"#8e0152\"], [0.1, \"#c51b7d\"], [0.2, \"#de77ae\"], [0.3, \"#f1b6da\"], [0.4, \"#fde0ef\"], [0.5, \"#f7f7f7\"], [0.6, \"#e6f5d0\"], [0.7, \"#b8e186\"], [0.8, \"#7fbc41\"], [0.9, \"#4d9221\"], [1, \"#276419\"]], \"sequential\": [[0.0, \"#0d0887\"], [0.1111111111111111, \"#46039f\"], [0.2222222222222222, \"#7201a8\"], [0.3333333333333333, \"#9c179e\"], [0.4444444444444444, \"#bd3786\"], [0.5555555555555556, \"#d8576b\"], [0.6666666666666666, \"#ed7953\"], [0.7777777777777778, \"#fb9f3a\"], [0.8888888888888888, \"#fdca26\"], [1.0, \"#f0f921\"]], \"sequentialminus\": [[0.0, \"#0d0887\"], [0.1111111111111111, \"#46039f\"], [0.2222222222222222, \"#7201a8\"], [0.3333333333333333, \"#9c179e\"], [0.4444444444444444, \"#bd3786\"], [0.5555555555555556, \"#d8576b\"], [0.6666666666666666, \"#ed7953\"], [0.7777777777777778, \"#fb9f3a\"], [0.8888888888888888, \"#fdca26\"], [1.0, \"#f0f921\"]]}, \"colorway\": [\"#636efa\", \"#EF553B\", \"#00cc96\", \"#ab63fa\", \"#FFA15A\", \"#19d3f3\", \"#FF6692\", \"#B6E880\", \"#FF97FF\", \"#FECB52\"], \"font\": {\"color\": \"#2a3f5f\"}, \"geo\": {\"bgcolor\": \"white\", \"lakecolor\": \"white\", \"landcolor\": \"#E5ECF6\", \"showlakes\": true, \"showland\": true, \"subunitcolor\": \"white\"}, \"hoverlabel\": {\"align\": \"left\"}, \"hovermode\": \"closest\", \"mapbox\": {\"style\": \"light\"}, \"paper_bgcolor\": \"white\", \"plot_bgcolor\": \"#E5ECF6\", \"polar\": {\"angularaxis\": {\"gridcolor\": \"white\", \"linecolor\": \"white\", \"ticks\": \"\"}, \"bgcolor\": \"#E5ECF6\", \"radialaxis\": {\"gridcolor\": \"white\", \"linecolor\": \"white\", \"ticks\": \"\"}}, \"scene\": {\"xaxis\": {\"backgroundcolor\": \"#E5ECF6\", \"gridcolor\": \"white\", \"gridwidth\": 2, \"linecolor\": \"white\", \"showbackground\": true, \"ticks\": \"\", \"zerolinecolor\": \"white\"}, \"yaxis\": {\"backgroundcolor\": \"#E5ECF6\", \"gridcolor\": \"white\", \"gridwidth\": 2, \"linecolor\": \"white\", \"showbackground\": true, \"ticks\": \"\", \"zerolinecolor\": \"white\"}, \"zaxis\": {\"backgroundcolor\": \"#E5ECF6\", \"gridcolor\": \"white\", \"gridwidth\": 2, \"linecolor\": \"white\", \"showbackground\": true, \"ticks\": \"\", \"zerolinecolor\": \"white\"}}, \"shapedefaults\": {\"line\": {\"color\": \"#2a3f5f\"}}, \"ternary\": {\"aaxis\": {\"gridcolor\": \"white\", \"linecolor\": \"white\", \"ticks\": \"\"}, \"baxis\": {\"gridcolor\": \"white\", \"linecolor\": \"white\", \"ticks\": \"\"}, \"bgcolor\": \"#E5ECF6\", \"caxis\": {\"gridcolor\": \"white\", \"linecolor\": \"white\", \"ticks\": \"\"}}, \"title\": {\"x\": 0.05}, \"xaxis\": {\"automargin\": true, \"gridcolor\": \"white\", \"linecolor\": \"white\", \"ticks\": \"\", \"title\": {\"standoff\": 15}, \"zerolinecolor\": \"white\", \"zerolinewidth\": 2}, \"yaxis\": {\"automargin\": true, \"gridcolor\": \"white\", \"linecolor\": \"white\", \"ticks\": \"\", \"title\": {\"standoff\": 15}, \"zerolinecolor\": \"white\", \"zerolinewidth\": 2}}}, \"title\": {\"text\": \"How many products were sold by ages\"}},                        {\"responsive\": true}                    ).then(function(){\n",
              "                            \n",
              "var gd = document.getElementById('352c1c97-cb0b-4de6-83fc-3ea1fd80e4ea');\n",
              "var x = new MutationObserver(function (mutations, observer) {{\n",
              "        var display = window.getComputedStyle(gd).display;\n",
              "        if (!display || display === 'none') {{\n",
              "            console.log([gd, 'removed!']);\n",
              "            Plotly.purge(gd);\n",
              "            observer.disconnect();\n",
              "        }}\n",
              "}});\n",
              "\n",
              "// Listen for the removal of the full notebook cells\n",
              "var notebookContainer = gd.closest('#notebook-container');\n",
              "if (notebookContainer) {{\n",
              "    x.observe(notebookContainer, {childList: true});\n",
              "}}\n",
              "\n",
              "// Listen for the clearing of the current output cell\n",
              "var outputEl = gd.closest('.output');\n",
              "if (outputEl) {{\n",
              "    x.observe(outputEl, {childList: true});\n",
              "}}\n",
              "\n",
              "                        })                };                });            </script>        </div>"
            ]
          },
          "metadata": {},
          "output_type": "display_data"
        }
      ],
      "execution_count": 21
    },
    {
      "cell_type": "markdown",
      "source": "### C) the occupation of customers",
      "metadata": {
        "papermill": {
          "duration": 0.053339,
          "end_time": "2021-02-05T14:39:01.395883",
          "exception": false,
          "start_time": "2021-02-05T14:39:01.342544",
          "status": "completed"
        },
        "tags": []
      }
    },
    {
      "cell_type": "code",
      "source": "palette=sns.color_palette(\"Set2\")",
      "metadata": {
        "execution": {
          "iopub.execute_input": "2021-02-05T14:39:01.507441Z",
          "iopub.status.busy": "2021-02-05T14:39:01.506621Z",
          "iopub.status.idle": "2021-02-05T14:39:01.508905Z",
          "shell.execute_reply": "2021-02-05T14:39:01.509434Z"
        },
        "papermill": {
          "duration": 0.060306,
          "end_time": "2021-02-05T14:39:01.509599",
          "exception": false,
          "start_time": "2021-02-05T14:39:01.449293",
          "status": "completed"
        },
        "tags": []
      },
      "outputs": [],
      "execution_count": 22
    },
    {
      "cell_type": "code",
      "source": "\nplt.rcParams['figure.figsize'] = (18, 9)\nsns.countplot(train['Occupation'], palette = palette)\nplt.title('Distribution of Occupation across customers', fontsize = 20)\nplt.xlabel('Occupation')\nplt.ylabel('Count')\nplt.show()",
      "metadata": {
        "execution": {
          "iopub.execute_input": "2021-02-05T14:39:01.620527Z",
          "iopub.status.busy": "2021-02-05T14:39:01.619881Z",
          "iopub.status.idle": "2021-02-05T14:39:02.011708Z",
          "shell.execute_reply": "2021-02-05T14:39:02.011156Z"
        },
        "papermill": {
          "duration": 0.449709,
          "end_time": "2021-02-05T14:39:02.011850",
          "exception": false,
          "start_time": "2021-02-05T14:39:01.562141",
          "status": "completed"
        },
        "tags": []
      },
      "outputs": [
        {
          "name": "stderr",
          "output_type": "stream",
          "text": [
            "/opt/conda/lib/python3.7/site-packages/seaborn/_decorators.py:43: FutureWarning:\n",
            "\n",
            "Pass the following variable as a keyword arg: x. From version 0.12, the only valid positional argument will be `data`, and passing other arguments without an explicit keyword will result in an error or misinterpretation.\n",
            "\n"
          ]
        },
        {
          "data": {
            "image/png": "[encoded data removed]",
            "text/plain": [
              "<Figure size 1296x648 with 1 Axes>"
            ]
          },
          "metadata": {},
          "output_type": "display_data"
        }
      ],
      "execution_count": 23
    },
    {
      "cell_type": "markdown",
      "source": "#### *Total Money Spent per Occupation*",
      "metadata": {
        "papermill": {
          "duration": 0.053488,
          "end_time": "2021-02-05T14:39:02.120515",
          "exception": false,
          "start_time": "2021-02-05T14:39:02.067027",
          "status": "completed"
        },
        "tags": []
      }
    },
    {
      "cell_type": "code",
      "source": "spent_by_occ = train.groupby(by='Occupation').sum()['Purchase']\nplt.figure(figsize=(20, 7))\n\nsns.barplot(x=spent_by_occ.index,y=spent_by_occ.values)\nplt.title('Total Money Spent per Occupation')\nplt.show()",
      "metadata": {
        "execution": {
          "iopub.execute_input": "2021-02-05T14:39:02.240927Z",
          "iopub.status.busy": "2021-02-05T14:39:02.239975Z",
          "iopub.status.idle": "2021-02-05T14:39:02.699249Z",
          "shell.execute_reply": "2021-02-05T14:39:02.698735Z"
        },
        "papermill": {
          "duration": 0.524451,
          "end_time": "2021-02-05T14:39:02.699441",
          "exception": false,
          "start_time": "2021-02-05T14:39:02.174990",
          "status": "completed"
        },
        "tags": []
      },
      "outputs": [
        {
          "data": {
            "image/png": "[encoded data removed]",
            "text/plain": [
              "<Figure size 1440x504 with 1 Axes>"
            ]
          },
          "metadata": {},
          "output_type": "display_data"
        }
      ],
      "execution_count": 24
    },
    {
      "cell_type": "markdown",
      "source": "Once again, the distribution of the mean amount spent within each occupation appears to mirror the distribution of the amount of people within each occupation. This is fortunate from a data science perspective, as we are not working with odd or outstanding features. Our data, in terms of age and occupation seems to simply make sense.",
      "metadata": {
        "papermill": {
          "duration": 0.056283,
          "end_time": "2021-02-05T14:39:02.812796",
          "exception": false,
          "start_time": "2021-02-05T14:39:02.756513",
          "status": "completed"
        },
        "tags": []
      }
    },
    {
      "cell_type": "markdown",
      "source": "### d) City_Category",
      "metadata": {
        "papermill": {
          "duration": 0.0549,
          "end_time": "2021-02-05T14:39:02.924662",
          "exception": false,
          "start_time": "2021-02-05T14:39:02.869762",
          "status": "completed"
        },
        "tags": []
      }
    },
    {
      "cell_type": "code",
      "source": "plt.rcParams['figure.figsize'] = (18, 9)\nsns.countplot(train['City_Category'], palette = palette)\nplt.title('Distribution of Cities across customers', fontsize = 20)\nplt.xlabel('Cities')\nplt.ylabel('Count')\nplt.show()",
      "metadata": {
        "execution": {
          "iopub.execute_input": "2021-02-05T14:39:03.096338Z",
          "iopub.status.busy": "2021-02-05T14:39:03.095421Z",
          "iopub.status.idle": "2021-02-05T14:39:03.789790Z",
          "shell.execute_reply": "2021-02-05T14:39:03.789287Z"
        },
        "papermill": {
          "duration": 0.810007,
          "end_time": "2021-02-05T14:39:03.789943",
          "exception": false,
          "start_time": "2021-02-05T14:39:02.979936",
          "status": "completed"
        },
        "tags": []
      },
      "outputs": [
        {
          "name": "stderr",
          "output_type": "stream",
          "text": [
            "/opt/conda/lib/python3.7/site-packages/seaborn/_decorators.py:43: FutureWarning:\n",
            "\n",
            "Pass the following variable as a keyword arg: x. From version 0.12, the only valid positional argument will be `data`, and passing other arguments without an explicit keyword will result in an error or misinterpretation.\n",
            "\n"
          ]
        },
        {
          "data": {
            "image/png": "[encoded data removed]",
            "text/plain": [
              "<Figure size 1296x648 with 1 Axes>"
            ]
          },
          "metadata": {},
          "output_type": "display_data"
        }
      ],
      "execution_count": 25
    },
    {
      "cell_type": "markdown",
      "source": "### E) Products",
      "metadata": {
        "papermill": {
          "duration": 0.060198,
          "end_time": "2021-02-05T14:39:03.907582",
          "exception": false,
          "start_time": "2021-02-05T14:39:03.847384",
          "status": "completed"
        },
        "tags": []
      }
    },
    {
      "cell_type": "markdown",
      "source": "Here we explore the products themselves. This is important, as we do not have labeled items in this dataset. Theoretically, a customer could be spending $5,000 on 4 new TVs, or 10,000 pens. This difference matters for stores, as their profits are affected. Since we do not know what the items are, let's explore the categories of the items.",
      "metadata": {
        "papermill": {
          "duration": 0.056002,
          "end_time": "2021-02-05T14:39:04.020929",
          "exception": false,
          "start_time": "2021-02-05T14:39:03.964927",
          "status": "completed"
        },
        "tags": []
      }
    },
    {
      "cell_type": "code",
      "source": "plt.figure(figsize=(20,6))\nprod_by_cat = train.groupby('Product_Category_1')['Product_ID'].nunique()\n\nsns.barplot(x=prod_by_cat.index,y=prod_by_cat.values, palette=palette)\nplt.title('Number of Unique Items per Category')\nplt.show()",
      "metadata": {
        "execution": {
          "iopub.execute_input": "2021-02-05T14:39:04.142387Z",
          "iopub.status.busy": "2021-02-05T14:39:04.141398Z",
          "iopub.status.idle": "2021-02-05T14:39:04.653198Z",
          "shell.execute_reply": "2021-02-05T14:39:04.652619Z"
        },
        "papermill": {
          "duration": 0.574922,
          "end_time": "2021-02-05T14:39:04.653358",
          "exception": false,
          "start_time": "2021-02-05T14:39:04.078436",
          "status": "completed"
        },
        "tags": []
      },
      "outputs": [
        {
          "data": {
            "image/png": "[encoded data removed]",
            "text/plain": [
              "<Figure size 1440x432 with 1 Axes>"
            ]
          },
          "metadata": {},
          "output_type": "display_data"
        }
      ],
      "execution_count": 26
    },
    {
      "cell_type": "markdown",
      "source": "Category labels 1, 5, and 8 clearly have the most items within them. This could mean the store is known for that item, or that the category is a broad one.",
      "metadata": {
        "papermill": {
          "duration": 0.058058,
          "end_time": "2021-02-05T14:39:04.769869",
          "exception": false,
          "start_time": "2021-02-05T14:39:04.711811",
          "status": "completed"
        },
        "tags": []
      }
    },
    {
      "cell_type": "code",
      "source": "category = []\nmean_purchase = []\n\n\nfor i in train['Product_Category_1'].unique():\n    category.append(i)\ncategory.sort()\n\nfor e in category:\n    mean_purchase.append(train[train['Product_Category_1']==e]['Purchase'].mean())\n\nplt.figure(figsize=(20,6))\n\nsns.barplot(x=category,y=mean_purchase)\nplt.title('Mean of the Purchases per Category')\nplt.xlabel('Product Category')\nplt.ylabel('Mean Purchase')\nplt.show()",
      "metadata": {
        "execution": {
          "iopub.execute_input": "2021-02-05T14:39:04.892529Z",
          "iopub.status.busy": "2021-02-05T14:39:04.891635Z",
          "iopub.status.idle": "2021-02-05T14:39:05.504270Z",
          "shell.execute_reply": "2021-02-05T14:39:05.503595Z"
        },
        "papermill": {
          "duration": 0.677443,
          "end_time": "2021-02-05T14:39:05.504419",
          "exception": false,
          "start_time": "2021-02-05T14:39:04.826976",
          "status": "completed"
        },
        "tags": []
      },
      "outputs": [
        {
          "data": {
            "image/png": "[encoded data removed]",
            "text/plain": [
              "<Figure size 1440x432 with 1 Axes>"
            ]
          },
          "metadata": {},
          "output_type": "display_data"
        }
      ],
      "execution_count": 27
    },
    {
      "cell_type": "code",
      "source": "# visualizing the different product categories\n\nplt.rcParams['figure.figsize'] = (15, 25)\nplt.style.use('ggplot')\n\nplt.subplot(4, 1, 1)\nsns.countplot(train['Product_Category_1'], palette = palette)\nplt.title('Product Category 1', fontsize = 20)\nplt.xlabel('Distribution of Product Category 1')\nplt.ylabel('Count')\n\nplt.subplot(4, 1, 2)\nsns.countplot(train['Product_Category_2'], palette = palette)\nplt.title('Product Category 2', fontsize = 20)\nplt.xlabel('Distribution of Product Category 2')\nplt.ylabel('Count')\n\n\nplt.show()",
      "metadata": {
        "execution": {
          "iopub.execute_input": "2021-02-05T14:39:05.648716Z",
          "iopub.status.busy": "2021-02-05T14:39:05.647266Z",
          "iopub.status.idle": "2021-02-05T14:39:06.464837Z",
          "shell.execute_reply": "2021-02-05T14:39:06.464220Z"
        },
        "papermill": {
          "duration": 0.899655,
          "end_time": "2021-02-05T14:39:06.464973",
          "exception": false,
          "start_time": "2021-02-05T14:39:05.565318",
          "status": "completed"
        },
        "tags": []
      },
      "outputs": [
        {
          "name": "stderr",
          "output_type": "stream",
          "text": [
            "/opt/conda/lib/python3.7/site-packages/seaborn/_decorators.py:43: FutureWarning:\n",
            "\n",
            "Pass the following variable as a keyword arg: x. From version 0.12, the only valid positional argument will be `data`, and passing other arguments without an explicit keyword will result in an error or misinterpretation.\n",
            "\n",
            "/opt/conda/lib/python3.7/site-packages/seaborn/_decorators.py:43: FutureWarning:\n",
            "\n",
            "Pass the following variable as a keyword arg: x. From version 0.12, the only valid positional argument will be `data`, and passing other arguments without an explicit keyword will result in an error or misinterpretation.\n",
            "\n"
          ]
        },
        {
          "data": {
            "image/png": "[encoded data removed]",
            "text/plain": [
              "<Figure size 1080x1800 with 2 Axes>"
            ]
          },
          "metadata": {},
          "output_type": "display_data"
        }
      ],
      "execution_count": 28
    },
    {
      "cell_type": "markdown",
      "source": "## the purchase attribute which is our target variable",
      "metadata": {
        "papermill": {
          "duration": 0.062181,
          "end_time": "2021-02-05T14:39:06.589173",
          "exception": false,
          "start_time": "2021-02-05T14:39:06.526992",
          "status": "completed"
        },
        "tags": []
      }
    },
    {
      "cell_type": "code",
      "source": "# importing important libraries\nfrom scipy import stats\nfrom scipy.stats import norm",
      "metadata": {
        "execution": {
          "iopub.execute_input": "2021-02-05T14:39:06.718807Z",
          "iopub.status.busy": "2021-02-05T14:39:06.718107Z",
          "iopub.status.idle": "2021-02-05T14:39:06.720821Z",
          "shell.execute_reply": "2021-02-05T14:39:06.720294Z"
        },
        "papermill": {
          "duration": 0.069204,
          "end_time": "2021-02-05T14:39:06.721006",
          "exception": false,
          "start_time": "2021-02-05T14:39:06.651802",
          "status": "completed"
        },
        "tags": []
      },
      "outputs": [],
      "execution_count": 29
    },
    {
      "cell_type": "code",
      "source": "# plotting a distribution plot for the target variable\nplt.rcParams['figure.figsize'] = (20, 7)\nsns.distplot(train['Purchase'], color = 'green', fit = norm)\n\n# fitting the target variable to the normal curve \nmu, sigma = norm.fit(train['Purchase']) \nprint(\"The mu {} and Sigma {} for the curve\".format(mu, sigma))\n\nplt.title('A distribution plot to represent the distribution of Purchase')\nplt.legend(['Normal Distribution ($mu$: {}, $sigma$: {}'.format(mu, sigma)], loc = 'best')\nplt.show()\n",
      "metadata": {
        "execution": {
          "iopub.execute_input": "2021-02-05T14:39:06.851353Z",
          "iopub.status.busy": "2021-02-05T14:39:06.850663Z",
          "iopub.status.idle": "2021-02-05T14:39:10.498697Z",
          "shell.execute_reply": "2021-02-05T14:39:10.498173Z"
        },
        "papermill": {
          "duration": 3.71534,
          "end_time": "2021-02-05T14:39:10.498847",
          "exception": false,
          "start_time": "2021-02-05T14:39:06.783507",
          "status": "completed"
        },
        "tags": []
      },
      "outputs": [
        {
          "name": "stderr",
          "output_type": "stream",
          "text": [
            "/opt/conda/lib/python3.7/site-packages/seaborn/distributions.py:2557: FutureWarning:\n",
            "\n",
            "`distplot` is a deprecated function and will be removed in a future version. Please adapt your code to use either `displot` (a figure-level function with similar flexibility) or `histplot` (an axes-level function for histograms).\n",
            "\n"
          ]
        },
        {
          "name": "stdout",
          "output_type": "stream",
          "text": [
            "The mu 9263.968712959126 and Sigma 5023.060827959928 for the curve\n"
          ]
        },
        {
          "data": {
            "image/png": "[encoded data removed]",
            "text/plain": [
              "<Figure size 1440x504 with 1 Axes>"
            ]
          },
          "metadata": {},
          "output_type": "display_data"
        }
      ],
      "execution_count": 30
    },
    {
      "cell_type": "markdown",
      "source": "# data selection ",
      "metadata": {
        "papermill": {
          "duration": 0.064339,
          "end_time": "2021-02-05T14:39:10.628870",
          "exception": false,
          "start_time": "2021-02-05T14:39:10.564531",
          "status": "completed"
        },
        "tags": []
      }
    },
    {
      "cell_type": "markdown",
      "source": "first we gonna drop the :\n1. User_ID\t\n2. Product_ID",
      "metadata": {
        "papermill": {
          "duration": 0.06305,
          "end_time": "2021-02-05T14:39:10.754741",
          "exception": false,
          "start_time": "2021-02-05T14:39:10.691691",
          "status": "completed"
        },
        "tags": []
      }
    },
    {
      "cell_type": "code",
      "source": "train = train.drop(['Product_ID','User_ID'],axis=1)",
      "metadata": {
        "execution": {
          "iopub.execute_input": "2021-02-05T14:39:10.889131Z",
          "iopub.status.busy": "2021-02-05T14:39:10.888014Z",
          "iopub.status.idle": "2021-02-05T14:39:10.920677Z",
          "shell.execute_reply": "2021-02-05T14:39:10.920049Z"
        },
        "papermill": {
          "duration": 0.102248,
          "end_time": "2021-02-05T14:39:10.920832",
          "exception": false,
          "start_time": "2021-02-05T14:39:10.818584",
          "status": "completed"
        },
        "tags": []
      },
      "outputs": [],
      "execution_count": 31
    },
    {
      "cell_type": "code",
      "source": "# checking the new shape of data\nprint(train.shape)\ntrain",
      "metadata": {
        "execution": {
          "iopub.execute_input": "2021-02-05T14:39:11.075912Z",
          "iopub.status.busy": "2021-02-05T14:39:11.075258Z",
          "iopub.status.idle": "2021-02-05T14:39:11.080164Z",
          "shell.execute_reply": "2021-02-05T14:39:11.080773Z"
        },
        "papermill": {
          "duration": 0.094046,
          "end_time": "2021-02-05T14:39:11.080945",
          "exception": false,
          "start_time": "2021-02-05T14:39:10.986899",
          "status": "completed"
        },
        "tags": []
      },
      "outputs": [
        {
          "name": "stdout",
          "output_type": "stream",
          "text": [
            "(550068, 9)\n"
          ]
        },
        {
          "data": {
            "text/html": [
              "<div>\n",
              "<style scoped>\n",
              "    .dataframe tbody tr th:only-of-type {\n",
              "        vertical-align: middle;\n",
              "    }\n",
              "\n",
              "    .dataframe tbody tr th {\n",
              "        vertical-align: top;\n",
              "    }\n",
              "\n",
              "    .dataframe thead th {\n",
              "        text-align: right;\n",
              "    }\n",
              "</style>\n",
              "<table border=\"1\" class=\"dataframe\">\n",
              "  <thead>\n",
              "    <tr style=\"text-align: right;\">\n",
              "      <th></th>\n",
              "      <th>Gender</th>\n",
              "      <th>Age</th>\n",
              "      <th>Occupation</th>\n",
              "      <th>City_Category</th>\n",
              "      <th>Stay_In_Current_City_Years</th>\n",
              "      <th>Marital_Status</th>\n",
              "      <th>Product_Category_1</th>\n",
              "      <th>Product_Category_2</th>\n",
              "      <th>Purchase</th>\n",
              "    </tr>\n",
              "  </thead>\n",
              "  <tbody>\n",
              "    <tr>\n",
              "      <th>0</th>\n",
              "      <td>F</td>\n",
              "      <td>0-17</td>\n",
              "      <td>10</td>\n",
              "      <td>A</td>\n",
              "      <td>2</td>\n",
              "      <td>0</td>\n",
              "      <td>3</td>\n",
              "      <td>9.0</td>\n",
              "      <td>8370</td>\n",
              "    </tr>\n",
              "    <tr>\n",
              "      <th>1</th>\n",
              "      <td>F</td>\n",
              "      <td>0-17</td>\n",
              "      <td>10</td>\n",
              "      <td>A</td>\n",
              "      <td>2</td>\n",
              "      <td>0</td>\n",
              "      <td>1</td>\n",
              "      <td>6.0</td>\n",
              "      <td>15200</td>\n",
              "    </tr>\n",
              "    <tr>\n",
              "      <th>2</th>\n",
              "      <td>F</td>\n",
              "      <td>0-17</td>\n",
              "      <td>10</td>\n",
              "      <td>A</td>\n",
              "      <td>2</td>\n",
              "      <td>0</td>\n",
              "      <td>12</td>\n",
              "      <td>9.0</td>\n",
              "      <td>1422</td>\n",
              "    </tr>\n",
              "    <tr>\n",
              "      <th>3</th>\n",
              "      <td>F</td>\n",
              "      <td>0-17</td>\n",
              "      <td>10</td>\n",
              "      <td>A</td>\n",
              "      <td>2</td>\n",
              "      <td>0</td>\n",
              "      <td>12</td>\n",
              "      <td>14.0</td>\n",
              "      <td>1057</td>\n",
              "    </tr>\n",
              "    <tr>\n",
              "      <th>4</th>\n",
              "      <td>M</td>\n",
              "      <td>55+</td>\n",
              "      <td>16</td>\n",
              "      <td>C</td>\n",
              "      <td>4+</td>\n",
              "      <td>0</td>\n",
              "      <td>8</td>\n",
              "      <td>9.0</td>\n",
              "      <td>7969</td>\n",
              "    </tr>\n",
              "    <tr>\n",
              "      <th>...</th>\n",
              "      <td>...</td>\n",
              "      <td>...</td>\n",
              "      <td>...</td>\n",
              "      <td>...</td>\n",
              "      <td>...</td>\n",
              "      <td>...</td>\n",
              "      <td>...</td>\n",
              "      <td>...</td>\n",
              "      <td>...</td>\n",
              "    </tr>\n",
              "    <tr>\n",
              "      <th>550063</th>\n",
              "      <td>M</td>\n",
              "      <td>51-55</td>\n",
              "      <td>13</td>\n",
              "      <td>B</td>\n",
              "      <td>1</td>\n",
              "      <td>1</td>\n",
              "      <td>20</td>\n",
              "      <td>9.0</td>\n",
              "      <td>368</td>\n",
              "    </tr>\n",
              "    <tr>\n",
              "      <th>550064</th>\n",
              "      <td>F</td>\n",
              "      <td>26-35</td>\n",
              "      <td>1</td>\n",
              "      <td>C</td>\n",
              "      <td>3</td>\n",
              "      <td>0</td>\n",
              "      <td>20</td>\n",
              "      <td>9.0</td>\n",
              "      <td>371</td>\n",
              "    </tr>\n",
              "    <tr>\n",
              "      <th>550065</th>\n",
              "      <td>F</td>\n",
              "      <td>26-35</td>\n",
              "      <td>15</td>\n",
              "      <td>B</td>\n",
              "      <td>4+</td>\n",
              "      <td>1</td>\n",
              "      <td>20</td>\n",
              "      <td>9.0</td>\n",
              "      <td>137</td>\n",
              "    </tr>\n",
              "    <tr>\n",
              "      <th>550066</th>\n",
              "      <td>F</td>\n",
              "      <td>55+</td>\n",
              "      <td>1</td>\n",
              "      <td>C</td>\n",
              "      <td>2</td>\n",
              "      <td>0</td>\n",
              "      <td>20</td>\n",
              "      <td>9.0</td>\n",
              "      <td>365</td>\n",
              "    </tr>\n",
              "    <tr>\n",
              "      <th>550067</th>\n",
              "      <td>F</td>\n",
              "      <td>46-50</td>\n",
              "      <td>0</td>\n",
              "      <td>B</td>\n",
              "      <td>4+</td>\n",
              "      <td>1</td>\n",
              "      <td>20</td>\n",
              "      <td>9.0</td>\n",
              "      <td>490</td>\n",
              "    </tr>\n",
              "  </tbody>\n",
              "</table>\n",
              "<p>550068 rows × 9 columns</p>\n",
              "</div>"
            ],
            "text/plain": [
              "       Gender    Age  Occupation City_Category Stay_In_Current_City_Years  \\\n",
              "0           F   0-17          10             A                          2   \n",
              "1           F   0-17          10             A                          2   \n",
              "2           F   0-17          10             A                          2   \n",
              "3           F   0-17          10             A                          2   \n",
              "4           M    55+          16             C                         4+   \n",
              "...       ...    ...         ...           ...                        ...   \n",
              "550063      M  51-55          13             B                          1   \n",
              "550064      F  26-35           1             C                          3   \n",
              "550065      F  26-35          15             B                         4+   \n",
              "550066      F    55+           1             C                          2   \n",
              "550067      F  46-50           0             B                         4+   \n",
              "\n",
              "        Marital_Status  Product_Category_1  Product_Category_2  Purchase  \n",
              "0                    0                   3                 9.0      8370  \n",
              "1                    0                   1                 6.0     15200  \n",
              "2                    0                  12                 9.0      1422  \n",
              "3                    0                  12                14.0      1057  \n",
              "4                    0                   8                 9.0      7969  \n",
              "...                ...                 ...                 ...       ...  \n",
              "550063               1                  20                 9.0       368  \n",
              "550064               0                  20                 9.0       371  \n",
              "550065               1                  20                 9.0       137  \n",
              "550066               0                  20                 9.0       365  \n",
              "550067               1                  20                 9.0       490  \n",
              "\n",
              "[550068 rows x 9 columns]"
            ]
          },
          "execution_count": 32,
          "metadata": {},
          "output_type": "execute_result"
        }
      ],
      "execution_count": 32
    },
    {
      "cell_type": "markdown",
      "source": "## label encoding",
      "metadata": {
        "papermill": {
          "duration": 0.065792,
          "end_time": "2021-02-05T14:39:11.213685",
          "exception": false,
          "start_time": "2021-02-05T14:39:11.147893",
          "status": "completed"
        },
        "tags": []
      }
    },
    {
      "cell_type": "code",
      "source": "df_Gender = pd.get_dummies(train['Gender'])\ndf_Age = pd.get_dummies(train['Age'])\ndf_City_Category = pd.get_dummies(train['City_Category'])\ndf_Stay_In_Current_City_Years = pd.get_dummies(train['Stay_In_Current_City_Years'])\n\ndata_final= pd.concat([train, df_Gender, df_Age, df_City_Category, df_Stay_In_Current_City_Years], axis=1)\n\ndata_final.head()",
      "metadata": {
        "execution": {
          "iopub.execute_input": "2021-02-05T14:39:11.362355Z",
          "iopub.status.busy": "2021-02-05T14:39:11.361722Z",
          "iopub.status.idle": "2021-02-05T14:39:11.608659Z",
          "shell.execute_reply": "2021-02-05T14:39:11.608137Z"
        },
        "papermill": {
          "duration": 0.329575,
          "end_time": "2021-02-05T14:39:11.608810",
          "exception": false,
          "start_time": "2021-02-05T14:39:11.279235",
          "status": "completed"
        },
        "tags": []
      },
      "outputs": [
        {
          "data": {
            "text/html": [
              "<div>\n",
              "<style scoped>\n",
              "    .dataframe tbody tr th:only-of-type {\n",
              "        vertical-align: middle;\n",
              "    }\n",
              "\n",
              "    .dataframe tbody tr th {\n",
              "        vertical-align: top;\n",
              "    }\n",
              "\n",
              "    .dataframe thead th {\n",
              "        text-align: right;\n",
              "    }\n",
              "</style>\n",
              "<table border=\"1\" class=\"dataframe\">\n",
              "  <thead>\n",
              "    <tr style=\"text-align: right;\">\n",
              "      <th></th>\n",
              "      <th>Gender</th>\n",
              "      <th>Age</th>\n",
              "      <th>Occupation</th>\n",
              "      <th>City_Category</th>\n",
              "      <th>Stay_In_Current_City_Years</th>\n",
              "      <th>Marital_Status</th>\n",
              "      <th>Product_Category_1</th>\n",
              "      <th>Product_Category_2</th>\n",
              "      <th>Purchase</th>\n",
              "      <th>F</th>\n",
              "      <th>...</th>\n",
              "      <th>51-55</th>\n",
              "      <th>55+</th>\n",
              "      <th>A</th>\n",
              "      <th>B</th>\n",
              "      <th>C</th>\n",
              "      <th>0</th>\n",
              "      <th>1</th>\n",
              "      <th>2</th>\n",
              "      <th>3</th>\n",
              "      <th>4+</th>\n",
              "    </tr>\n",
              "  </thead>\n",
              "  <tbody>\n",
              "    <tr>\n",
              "      <th>0</th>\n",
              "      <td>F</td>\n",
              "      <td>0-17</td>\n",
              "      <td>10</td>\n",
              "      <td>A</td>\n",
              "      <td>2</td>\n",
              "      <td>0</td>\n",
              "      <td>3</td>\n",
              "      <td>9.0</td>\n",
              "      <td>8370</td>\n",
              "      <td>1</td>\n",
              "      <td>...</td>\n",
              "      <td>0</td>\n",
              "      <td>0</td>\n",
              "      <td>1</td>\n",
              "      <td>0</td>\n",
              "      <td>0</td>\n",
              "      <td>0</td>\n",
              "      <td>0</td>\n",
              "      <td>1</td>\n",
              "      <td>0</td>\n",
              "      <td>0</td>\n",
              "    </tr>\n",
              "    <tr>\n",
              "      <th>1</th>\n",
              "      <td>F</td>\n",
              "      <td>0-17</td>\n",
              "      <td>10</td>\n",
              "      <td>A</td>\n",
              "      <td>2</td>\n",
              "      <td>0</td>\n",
              "      <td>1</td>\n",
              "      <td>6.0</td>\n",
              "      <td>15200</td>\n",
              "      <td>1</td>\n",
              "      <td>...</td>\n",
              "      <td>0</td>\n",
              "      <td>0</td>\n",
              "      <td>1</td>\n",
              "      <td>0</td>\n",
              "      <td>0</td>\n",
              "      <td>0</td>\n",
              "      <td>0</td>\n",
              "      <td>1</td>\n",
              "      <td>0</td>\n",
              "      <td>0</td>\n",
              "    </tr>\n",
              "    <tr>\n",
              "      <th>2</th>\n",
              "      <td>F</td>\n",
              "      <td>0-17</td>\n",
              "      <td>10</td>\n",
              "      <td>A</td>\n",
              "      <td>2</td>\n",
              "      <td>0</td>\n",
              "      <td>12</td>\n",
              "      <td>9.0</td>\n",
              "      <td>1422</td>\n",
              "      <td>1</td>\n",
              "      <td>...</td>\n",
              "      <td>0</td>\n",
              "      <td>0</td>\n",
              "      <td>1</td>\n",
              "      <td>0</td>\n",
              "      <td>0</td>\n",
              "      <td>0</td>\n",
              "      <td>0</td>\n",
              "      <td>1</td>\n",
              "      <td>0</td>\n",
              "      <td>0</td>\n",
              "    </tr>\n",
              "    <tr>\n",
              "      <th>3</th>\n",
              "      <td>F</td>\n",
              "      <td>0-17</td>\n",
              "      <td>10</td>\n",
              "      <td>A</td>\n",
              "      <td>2</td>\n",
              "      <td>0</td>\n",
              "      <td>12</td>\n",
              "      <td>14.0</td>\n",
              "      <td>1057</td>\n",
              "      <td>1</td>\n",
              "      <td>...</td>\n",
              "      <td>0</td>\n",
              "      <td>0</td>\n",
              "      <td>1</td>\n",
              "      <td>0</td>\n",
              "      <td>0</td>\n",
              "      <td>0</td>\n",
              "      <td>0</td>\n",
              "      <td>1</td>\n",
              "      <td>0</td>\n",
              "      <td>0</td>\n",
              "    </tr>\n",
              "    <tr>\n",
              "      <th>4</th>\n",
              "      <td>M</td>\n",
              "      <td>55+</td>\n",
              "      <td>16</td>\n",
              "      <td>C</td>\n",
              "      <td>4+</td>\n",
              "      <td>0</td>\n",
              "      <td>8</td>\n",
              "      <td>9.0</td>\n",
              "      <td>7969</td>\n",
              "      <td>0</td>\n",
              "      <td>...</td>\n",
              "      <td>0</td>\n",
              "      <td>1</td>\n",
              "      <td>0</td>\n",
              "      <td>0</td>\n",
              "      <td>1</td>\n",
              "      <td>0</td>\n",
              "      <td>0</td>\n",
              "      <td>0</td>\n",
              "      <td>0</td>\n",
              "      <td>1</td>\n",
              "    </tr>\n",
              "  </tbody>\n",
              "</table>\n",
              "<p>5 rows × 26 columns</p>\n",
              "</div>"
            ],
            "text/plain": [
              "  Gender   Age  Occupation City_Category Stay_In_Current_City_Years  \\\n",
              "0      F  0-17          10             A                          2   \n",
              "1      F  0-17          10             A                          2   \n",
              "2      F  0-17          10             A                          2   \n",
              "3      F  0-17          10             A                          2   \n",
              "4      M   55+          16             C                         4+   \n",
              "\n",
              "   Marital_Status  Product_Category_1  Product_Category_2  Purchase  F  ...  \\\n",
              "0               0                   3                 9.0      8370  1  ...   \n",
              "1               0                   1                 6.0     15200  1  ...   \n",
              "2               0                  12                 9.0      1422  1  ...   \n",
              "3               0                  12                14.0      1057  1  ...   \n",
              "4               0                   8                 9.0      7969  0  ...   \n",
              "\n",
              "   51-55  55+  A  B  C  0  1  2  3  4+  \n",
              "0      0    0  1  0  0  0  0  1  0   0  \n",
              "1      0    0  1  0  0  0  0  1  0   0  \n",
              "2      0    0  1  0  0  0  0  1  0   0  \n",
              "3      0    0  1  0  0  0  0  1  0   0  \n",
              "4      0    1  0  0  1  0  0  0  0   1  \n",
              "\n",
              "[5 rows x 26 columns]"
            ]
          },
          "execution_count": 33,
          "metadata": {},
          "output_type": "execute_result"
        }
      ],
      "execution_count": 33
    },
    {
      "cell_type": "code",
      "source": "data_final = data_final.drop(['Gender','Age','City_Category','Stay_In_Current_City_Years'],axis=1)\ndata_final",
      "metadata": {
        "execution": {
          "iopub.execute_input": "2021-02-05T14:39:11.748810Z",
          "iopub.status.busy": "2021-02-05T14:39:11.748190Z",
          "iopub.status.idle": "2021-02-05T14:39:11.885419Z",
          "shell.execute_reply": "2021-02-05T14:39:11.886023Z"
        },
        "papermill": {
          "duration": 0.209017,
          "end_time": "2021-02-05T14:39:11.886197",
          "exception": false,
          "start_time": "2021-02-05T14:39:11.677180",
          "status": "completed"
        },
        "tags": []
      },
      "outputs": [
        {
          "data": {
            "text/html": [
              "<div>\n",
              "<style scoped>\n",
              "    .dataframe tbody tr th:only-of-type {\n",
              "        vertical-align: middle;\n",
              "    }\n",
              "\n",
              "    .dataframe tbody tr th {\n",
              "        vertical-align: top;\n",
              "    }\n",
              "\n",
              "    .dataframe thead th {\n",
              "        text-align: right;\n",
              "    }\n",
              "</style>\n",
              "<table border=\"1\" class=\"dataframe\">\n",
              "  <thead>\n",
              "    <tr style=\"text-align: right;\">\n",
              "      <th></th>\n",
              "      <th>Occupation</th>\n",
              "      <th>Marital_Status</th>\n",
              "      <th>Product_Category_1</th>\n",
              "      <th>Product_Category_2</th>\n",
              "      <th>Purchase</th>\n",
              "      <th>F</th>\n",
              "      <th>M</th>\n",
              "      <th>0-17</th>\n",
              "      <th>18-25</th>\n",
              "      <th>26-35</th>\n",
              "      <th>...</th>\n",
              "      <th>51-55</th>\n",
              "      <th>55+</th>\n",
              "      <th>A</th>\n",
              "      <th>B</th>\n",
              "      <th>C</th>\n",
              "      <th>0</th>\n",
              "      <th>1</th>\n",
              "      <th>2</th>\n",
              "      <th>3</th>\n",
              "      <th>4+</th>\n",
              "    </tr>\n",
              "  </thead>\n",
              "  <tbody>\n",
              "    <tr>\n",
              "      <th>0</th>\n",
              "      <td>10</td>\n",
              "      <td>0</td>\n",
              "      <td>3</td>\n",
              "      <td>9.0</td>\n",
              "      <td>8370</td>\n",
              "      <td>1</td>\n",
              "      <td>0</td>\n",
              "      <td>1</td>\n",
              "      <td>0</td>\n",
              "      <td>0</td>\n",
              "      <td>...</td>\n",
              "      <td>0</td>\n",
              "      <td>0</td>\n",
              "      <td>1</td>\n",
              "      <td>0</td>\n",
              "      <td>0</td>\n",
              "      <td>0</td>\n",
              "      <td>0</td>\n",
              "      <td>1</td>\n",
              "      <td>0</td>\n",
              "      <td>0</td>\n",
              "    </tr>\n",
              "    <tr>\n",
              "      <th>1</th>\n",
              "      <td>10</td>\n",
              "      <td>0</td>\n",
              "      <td>1</td>\n",
              "      <td>6.0</td>\n",
              "      <td>15200</td>\n",
              "      <td>1</td>\n",
              "      <td>0</td>\n",
              "      <td>1</td>\n",
              "      <td>0</td>\n",
              "      <td>0</td>\n",
              "      <td>...</td>\n",
              "      <td>0</td>\n",
              "      <td>0</td>\n",
              "      <td>1</td>\n",
              "      <td>0</td>\n",
              "      <td>0</td>\n",
              "      <td>0</td>\n",
              "      <td>0</td>\n",
              "      <td>1</td>\n",
              "      <td>0</td>\n",
              "      <td>0</td>\n",
              "    </tr>\n",
              "    <tr>\n",
              "      <th>2</th>\n",
              "      <td>10</td>\n",
              "      <td>0</td>\n",
              "      <td>12</td>\n",
              "      <td>9.0</td>\n",
              "      <td>1422</td>\n",
              "      <td>1</td>\n",
              "      <td>0</td>\n",
              "      <td>1</td>\n",
              "      <td>0</td>\n",
              "      <td>0</td>\n",
              "      <td>...</td>\n",
              "      <td>0</td>\n",
              "      <td>0</td>\n",
              "      <td>1</td>\n",
              "      <td>0</td>\n",
              "      <td>0</td>\n",
              "      <td>0</td>\n",
              "      <td>0</td>\n",
              "      <td>1</td>\n",
              "      <td>0</td>\n",
              "      <td>0</td>\n",
              "    </tr>\n",
              "    <tr>\n",
              "      <th>3</th>\n",
              "      <td>10</td>\n",
              "      <td>0</td>\n",
              "      <td>12</td>\n",
              "      <td>14.0</td>\n",
              "      <td>1057</td>\n",
              "      <td>1</td>\n",
              "      <td>0</td>\n",
              "      <td>1</td>\n",
              "      <td>0</td>\n",
              "      <td>0</td>\n",
              "      <td>...</td>\n",
              "      <td>0</td>\n",
              "      <td>0</td>\n",
              "      <td>1</td>\n",
              "      <td>0</td>\n",
              "      <td>0</td>\n",
              "      <td>0</td>\n",
              "      <td>0</td>\n",
              "      <td>1</td>\n",
              "      <td>0</td>\n",
              "      <td>0</td>\n",
              "    </tr>\n",
              "    <tr>\n",
              "      <th>4</th>\n",
              "      <td>16</td>\n",
              "      <td>0</td>\n",
              "      <td>8</td>\n",
              "      <td>9.0</td>\n",
              "      <td>7969</td>\n",
              "      <td>0</td>\n",
              "      <td>1</td>\n",
              "      <td>0</td>\n",
              "      <td>0</td>\n",
              "      <td>0</td>\n",
              "      <td>...</td>\n",
              "      <td>0</td>\n",
              "      <td>1</td>\n",
              "      <td>0</td>\n",
              "      <td>0</td>\n",
              "      <td>1</td>\n",
              "      <td>0</td>\n",
              "      <td>0</td>\n",
              "      <td>0</td>\n",
              "      <td>0</td>\n",
              "      <td>1</td>\n",
              "    </tr>\n",
              "    <tr>\n",
              "      <th>...</th>\n",
              "      <td>...</td>\n",
              "      <td>...</td>\n",
              "      <td>...</td>\n",
              "      <td>...</td>\n",
              "      <td>...</td>\n",
              "      <td>...</td>\n",
              "      <td>...</td>\n",
              "      <td>...</td>\n",
              "      <td>...</td>\n",
              "      <td>...</td>\n",
              "      <td>...</td>\n",
              "      <td>...</td>\n",
              "      <td>...</td>\n",
              "      <td>...</td>\n",
              "      <td>...</td>\n",
              "      <td>...</td>\n",
              "      <td>...</td>\n",
              "      <td>...</td>\n",
              "      <td>...</td>\n",
              "      <td>...</td>\n",
              "      <td>...</td>\n",
              "    </tr>\n",
              "    <tr>\n",
              "      <th>550063</th>\n",
              "      <td>13</td>\n",
              "      <td>1</td>\n",
              "      <td>20</td>\n",
              "      <td>9.0</td>\n",
              "      <td>368</td>\n",
              "      <td>0</td>\n",
              "      <td>1</td>\n",
              "      <td>0</td>\n",
              "      <td>0</td>\n",
              "      <td>0</td>\n",
              "      <td>...</td>\n",
              "      <td>1</td>\n",
              "      <td>0</td>\n",
              "      <td>0</td>\n",
              "      <td>1</td>\n",
              "      <td>0</td>\n",
              "      <td>0</td>\n",
              "      <td>1</td>\n",
              "      <td>0</td>\n",
              "      <td>0</td>\n",
              "      <td>0</td>\n",
              "    </tr>\n",
              "    <tr>\n",
              "      <th>550064</th>\n",
              "      <td>1</td>\n",
              "      <td>0</td>\n",
              "      <td>20</td>\n",
              "      <td>9.0</td>\n",
              "      <td>371</td>\n",
              "      <td>1</td>\n",
              "      <td>0</td>\n",
              "      <td>0</td>\n",
              "      <td>0</td>\n",
              "      <td>1</td>\n",
              "      <td>...</td>\n",
              "      <td>0</td>\n",
              "      <td>0</td>\n",
              "      <td>0</td>\n",
              "      <td>0</td>\n",
              "      <td>1</td>\n",
              "      <td>0</td>\n",
              "      <td>0</td>\n",
              "      <td>0</td>\n",
              "      <td>1</td>\n",
              "      <td>0</td>\n",
              "    </tr>\n",
              "    <tr>\n",
              "      <th>550065</th>\n",
              "      <td>15</td>\n",
              "      <td>1</td>\n",
              "      <td>20</td>\n",
              "      <td>9.0</td>\n",
              "      <td>137</td>\n",
              "      <td>1</td>\n",
              "      <td>0</td>\n",
              "      <td>0</td>\n",
              "      <td>0</td>\n",
              "      <td>1</td>\n",
              "      <td>...</td>\n",
              "      <td>0</td>\n",
              "      <td>0</td>\n",
              "      <td>0</td>\n",
              "      <td>1</td>\n",
              "      <td>0</td>\n",
              "      <td>0</td>\n",
              "      <td>0</td>\n",
              "      <td>0</td>\n",
              "      <td>0</td>\n",
              "      <td>1</td>\n",
              "    </tr>\n",
              "    <tr>\n",
              "      <th>550066</th>\n",
              "      <td>1</td>\n",
              "      <td>0</td>\n",
              "      <td>20</td>\n",
              "      <td>9.0</td>\n",
              "      <td>365</td>\n",
              "      <td>1</td>\n",
              "      <td>0</td>\n",
              "      <td>0</td>\n",
              "      <td>0</td>\n",
              "      <td>0</td>\n",
              "      <td>...</td>\n",
              "      <td>0</td>\n",
              "      <td>1</td>\n",
              "      <td>0</td>\n",
              "      <td>0</td>\n",
              "      <td>1</td>\n",
              "      <td>0</td>\n",
              "      <td>0</td>\n",
              "      <td>1</td>\n",
              "      <td>0</td>\n",
              "      <td>0</td>\n",
              "    </tr>\n",
              "    <tr>\n",
              "      <th>550067</th>\n",
              "      <td>0</td>\n",
              "      <td>1</td>\n",
              "      <td>20</td>\n",
              "      <td>9.0</td>\n",
              "      <td>490</td>\n",
              "      <td>1</td>\n",
              "      <td>0</td>\n",
              "      <td>0</td>\n",
              "      <td>0</td>\n",
              "      <td>0</td>\n",
              "      <td>...</td>\n",
              "      <td>0</td>\n",
              "      <td>0</td>\n",
              "      <td>0</td>\n",
              "      <td>1</td>\n",
              "      <td>0</td>\n",
              "      <td>0</td>\n",
              "      <td>0</td>\n",
              "      <td>0</td>\n",
              "      <td>0</td>\n",
              "      <td>1</td>\n",
              "    </tr>\n",
              "  </tbody>\n",
              "</table>\n",
              "<p>550068 rows × 22 columns</p>\n",
              "</div>"
            ],
            "text/plain": [
              "        Occupation  Marital_Status  Product_Category_1  Product_Category_2  \\\n",
              "0               10               0                   3                 9.0   \n",
              "1               10               0                   1                 6.0   \n",
              "2               10               0                  12                 9.0   \n",
              "3               10               0                  12                14.0   \n",
              "4               16               0                   8                 9.0   \n",
              "...            ...             ...                 ...                 ...   \n",
              "550063          13               1                  20                 9.0   \n",
              "550064           1               0                  20                 9.0   \n",
              "550065          15               1                  20                 9.0   \n",
              "550066           1               0                  20                 9.0   \n",
              "550067           0               1                  20                 9.0   \n",
              "\n",
              "        Purchase  F  M  0-17  18-25  26-35  ...  51-55  55+  A  B  C  0  1  2  \\\n",
              "0           8370  1  0     1      0      0  ...      0    0  1  0  0  0  0  1   \n",
              "1          15200  1  0     1      0      0  ...      0    0  1  0  0  0  0  1   \n",
              "2           1422  1  0     1      0      0  ...      0    0  1  0  0  0  0  1   \n",
              "3           1057  1  0     1      0      0  ...      0    0  1  0  0  0  0  1   \n",
              "4           7969  0  1     0      0      0  ...      0    1  0  0  1  0  0  0   \n",
              "...          ... .. ..   ...    ...    ...  ...    ...  ... .. .. .. .. .. ..   \n",
              "550063       368  0  1     0      0      0  ...      1    0  0  1  0  0  1  0   \n",
              "550064       371  1  0     0      0      1  ...      0    0  0  0  1  0  0  0   \n",
              "550065       137  1  0     0      0      1  ...      0    0  0  1  0  0  0  0   \n",
              "550066       365  1  0     0      0      0  ...      0    1  0  0  1  0  0  1   \n",
              "550067       490  1  0     0      0      0  ...      0    0  0  1  0  0  0  0   \n",
              "\n",
              "        3  4+  \n",
              "0       0   0  \n",
              "1       0   0  \n",
              "2       0   0  \n",
              "3       0   0  \n",
              "4       0   1  \n",
              "...    ..  ..  \n",
              "550063  0   0  \n",
              "550064  1   0  \n",
              "550065  0   1  \n",
              "550066  0   0  \n",
              "550067  0   1  \n",
              "\n",
              "[550068 rows x 22 columns]"
            ]
          },
          "execution_count": 34,
          "metadata": {},
          "output_type": "execute_result"
        }
      ],
      "execution_count": 34
    },
    {
      "cell_type": "code",
      "source": "data_final.dtypes",
      "metadata": {
        "execution": {
          "iopub.execute_input": "2021-02-05T14:39:12.029954Z",
          "iopub.status.busy": "2021-02-05T14:39:12.029272Z",
          "iopub.status.idle": "2021-02-05T14:39:12.031992Z",
          "shell.execute_reply": "2021-02-05T14:39:12.032554Z"
        },
        "papermill": {
          "duration": 0.078175,
          "end_time": "2021-02-05T14:39:12.032729",
          "exception": false,
          "start_time": "2021-02-05T14:39:11.954554",
          "status": "completed"
        },
        "tags": []
      },
      "outputs": [
        {
          "data": {
            "text/plain": [
              "Occupation              int64\n",
              "Marital_Status          int64\n",
              "Product_Category_1      int64\n",
              "Product_Category_2    float64\n",
              "Purchase                int64\n",
              "F                       uint8\n",
              "M                       uint8\n",
              "0-17                    uint8\n",
              "18-25                   uint8\n",
              "26-35                   uint8\n",
              "36-45                   uint8\n",
              "46-50                   uint8\n",
              "51-55                   uint8\n",
              "55+                     uint8\n",
              "A                       uint8\n",
              "B                       uint8\n",
              "C                       uint8\n",
              "0                       uint8\n",
              "1                       uint8\n",
              "2                       uint8\n",
              "3                       uint8\n",
              "4+                      uint8\n",
              "dtype: object"
            ]
          },
          "execution_count": 35,
          "metadata": {},
          "output_type": "execute_result"
        }
      ],
      "execution_count": 35
    },
    {
      "cell_type": "markdown",
      "source": "### Predicting the Amount Spent\n\nwe will use one of the simplest machine learning models, i.e. the linear regression model, to predict the amount spent by the customer on Black Friday.\n\nLinear regression represents a very simple method for supervised learning and it is an effective tool for predicting quantitative responses. You can find basic information about it right here: Linear Regression in Python\n\nThis model, like most of the supervised machine learning algorithms, makes a prediction based on the input features. The predicted output values are used for comparisons with desired outputs and an error is calculated. The error signal is propagated back through the model and model parameters are updating in a way to minimize the error. Finally, the model is considered to be fully trained if the error is small enough. This is a very basic explanation and we are going to analyze all these processes in details in future articles.",
      "metadata": {
        "papermill": {
          "duration": 0.066712,
          "end_time": "2021-02-05T14:39:12.167994",
          "exception": false,
          "start_time": "2021-02-05T14:39:12.101282",
          "status": "completed"
        },
        "tags": []
      }
    },
    {
      "cell_type": "markdown",
      "source": "## split data",
      "metadata": {
        "papermill": {
          "duration": 0.066736,
          "end_time": "2021-02-05T14:39:12.302203",
          "exception": false,
          "start_time": "2021-02-05T14:39:12.235467",
          "status": "completed"
        },
        "tags": []
      }
    },
    {
      "cell_type": "code",
      "source": "from sklearn.model_selection import train_test_split\nfrom sklearn import metrics\nfrom sklearn.metrics import accuracy_score",
      "metadata": {
        "execution": {
          "iopub.execute_input": "2021-02-05T14:39:12.441741Z",
          "iopub.status.busy": "2021-02-05T14:39:12.441098Z",
          "iopub.status.idle": "2021-02-05T14:39:12.599275Z",
          "shell.execute_reply": "2021-02-05T14:39:12.598611Z"
        },
        "papermill": {
          "duration": 0.229552,
          "end_time": "2021-02-05T14:39:12.599409",
          "exception": false,
          "start_time": "2021-02-05T14:39:12.369857",
          "status": "completed"
        },
        "tags": []
      },
      "outputs": [],
      "execution_count": 36
    },
    {
      "cell_type": "code",
      "source": "x=data_final.drop('Purchase',axis=1)\ny=data_final.Purchase",
      "metadata": {
        "execution": {
          "iopub.execute_input": "2021-02-05T14:39:12.743073Z",
          "iopub.status.busy": "2021-02-05T14:39:12.741488Z",
          "iopub.status.idle": "2021-02-05T14:39:12.748591Z",
          "shell.execute_reply": "2021-02-05T14:39:12.747994Z"
        },
        "papermill": {
          "duration": 0.082188,
          "end_time": "2021-02-05T14:39:12.748742",
          "exception": false,
          "start_time": "2021-02-05T14:39:12.666554",
          "status": "completed"
        },
        "tags": []
      },
      "outputs": [],
      "execution_count": 37
    },
    {
      "cell_type": "code",
      "source": "print(x.shape)\nprint(y.shape)",
      "metadata": {
        "execution": {
          "iopub.execute_input": "2021-02-05T14:39:12.888858Z",
          "iopub.status.busy": "2021-02-05T14:39:12.888254Z",
          "iopub.status.idle": "2021-02-05T14:39:12.892476Z",
          "shell.execute_reply": "2021-02-05T14:39:12.893481Z"
        },
        "papermill": {
          "duration": 0.07795,
          "end_time": "2021-02-05T14:39:12.893640",
          "exception": false,
          "start_time": "2021-02-05T14:39:12.815690",
          "status": "completed"
        },
        "tags": []
      },
      "outputs": [
        {
          "name": "stdout",
          "output_type": "stream",
          "text": [
            "(550068, 21)\n",
            "(550068,)\n"
          ]
        }
      ],
      "execution_count": 38
    },
    {
      "cell_type": "code",
      "source": "x_train,x_test,y_train,y_test = train_test_split(x,y,test_size=0.25)",
      "metadata": {
        "execution": {
          "iopub.execute_input": "2021-02-05T14:39:13.033497Z",
          "iopub.status.busy": "2021-02-05T14:39:13.032877Z",
          "iopub.status.idle": "2021-02-05T14:39:13.113879Z",
          "shell.execute_reply": "2021-02-05T14:39:13.113168Z"
        },
        "papermill": {
          "duration": 0.153796,
          "end_time": "2021-02-05T14:39:13.114022",
          "exception": false,
          "start_time": "2021-02-05T14:39:12.960226",
          "status": "completed"
        },
        "tags": []
      },
      "outputs": [],
      "execution_count": 39
    },
    {
      "cell_type": "markdown",
      "source": "### Feature Scaling",
      "metadata": {
        "papermill": {
          "duration": 0.066781,
          "end_time": "2021-02-05T14:39:13.247794",
          "exception": false,
          "start_time": "2021-02-05T14:39:13.181013",
          "status": "completed"
        },
        "tags": []
      }
    },
    {
      "cell_type": "code",
      "source": "from sklearn.preprocessing import StandardScaler\nsc = StandardScaler()\nx_train = sc.fit_transform(x_train)\nx_test = sc.transform(x_test)",
      "metadata": {
        "execution": {
          "iopub.execute_input": "2021-02-05T14:39:13.396967Z",
          "iopub.status.busy": "2021-02-05T14:39:13.396266Z",
          "iopub.status.idle": "2021-02-05T14:39:13.670889Z",
          "shell.execute_reply": "2021-02-05T14:39:13.670174Z"
        },
        "papermill": {
          "duration": 0.355819,
          "end_time": "2021-02-05T14:39:13.671041",
          "exception": false,
          "start_time": "2021-02-05T14:39:13.315222",
          "status": "completed"
        },
        "tags": []
      },
      "outputs": [],
      "execution_count": 40
    },
    {
      "cell_type": "markdown",
      "source": "## 1) LinearRegression",
      "metadata": {
        "papermill": {
          "duration": 0.069911,
          "end_time": "2021-02-05T14:39:13.811205",
          "exception": false,
          "start_time": "2021-02-05T14:39:13.741294",
          "status": "completed"
        },
        "tags": []
      }
    },
    {
      "cell_type": "code",
      "source": "from sklearn.linear_model import LinearRegression\n\nlm = LinearRegression()\nlm.fit(x_train, y_train)\nprint(lm.fit(x_train, y_train))",
      "metadata": {
        "execution": {
          "iopub.execute_input": "2021-02-05T14:39:13.956851Z",
          "iopub.status.busy": "2021-02-05T14:39:13.956049Z",
          "iopub.status.idle": "2021-02-05T14:39:14.565358Z",
          "shell.execute_reply": "2021-02-05T14:39:14.566379Z"
        },
        "papermill": {
          "duration": 0.686538,
          "end_time": "2021-02-05T14:39:14.566687",
          "exception": false,
          "start_time": "2021-02-05T14:39:13.880149",
          "status": "completed"
        },
        "tags": []
      },
      "outputs": [
        {
          "name": "stdout",
          "output_type": "stream",
          "text": [
            "LinearRegression()\n"
          ]
        }
      ],
      "execution_count": 41
    },
    {
      "cell_type": "code",
      "source": "LinearRegression(copy_X=True, fit_intercept=True, n_jobs=None,\n         normalize=False)",
      "metadata": {
        "execution": {
          "iopub.execute_input": "2021-02-05T14:39:14.732833Z",
          "iopub.status.busy": "2021-02-05T14:39:14.732161Z",
          "iopub.status.idle": "2021-02-05T14:39:14.735700Z",
          "shell.execute_reply": "2021-02-05T14:39:14.736141Z"
        },
        "papermill": {
          "duration": 0.077434,
          "end_time": "2021-02-05T14:39:14.736297",
          "exception": false,
          "start_time": "2021-02-05T14:39:14.658863",
          "status": "completed"
        },
        "tags": []
      },
      "outputs": [
        {
          "data": {
            "text/plain": [
              "LinearRegression()"
            ]
          },
          "execution_count": 42,
          "metadata": {},
          "output_type": "execute_result"
        }
      ],
      "execution_count": 42
    },
    {
      "cell_type": "code",
      "source": "print('Intercept parameter:', lm.intercept_)\ncoeff_df = pd.DataFrame(lm.coef_, x.columns, columns=['Coefficient'])\nprint(coeff_df)",
      "metadata": {
        "execution": {
          "iopub.execute_input": "2021-02-05T14:39:14.877888Z",
          "iopub.status.busy": "2021-02-05T14:39:14.877268Z",
          "iopub.status.idle": "2021-02-05T14:39:14.879848Z",
          "shell.execute_reply": "2021-02-05T14:39:14.880368Z"
        },
        "papermill": {
          "duration": 0.077682,
          "end_time": "2021-02-05T14:39:14.880533",
          "exception": false,
          "start_time": "2021-02-05T14:39:14.802851",
          "status": "completed"
        },
        "tags": []
      },
      "outputs": [
        {
          "name": "stdout",
          "output_type": "stream",
          "text": [
            "Intercept parameter: 9257.575594764789\n",
            "                     Coefficient\n",
            "Occupation          5.223510e+01\n",
            "Marital_Status     -2.568989e+01\n",
            "Product_Category_1 -1.684264e+03\n",
            "Product_Category_2 -2.237834e+02\n",
            "F                  -9.986262e+15\n",
            "M                  -9.986262e+15\n",
            "0-17                1.963183e+16\n",
            "18-25               4.629233e+16\n",
            "26-35               5.886201e+16\n",
            "36-45               4.811073e+16\n",
            "46-50               3.309655e+16\n",
            "51-55               3.064330e+16\n",
            "55+                 2.329971e+16\n",
            "A                  -1.649574e+16\n",
            "B                  -1.836382e+16\n",
            "C                  -1.723161e+16\n",
            "0                  -4.848421e+15\n",
            "1                  -6.770243e+15\n",
            "2                  -5.505961e+15\n",
            "3                  -5.355041e+15\n",
            "4+                 -5.111208e+15\n"
          ]
        }
      ],
      "execution_count": 43
    },
    {
      "cell_type": "code",
      "source": "predictions = lm.predict(x_test)\nprint(\"Predicted purchases (in dollars) for new costumers:\", predictions)",
      "metadata": {
        "execution": {
          "iopub.execute_input": "2021-02-05T14:39:15.018827Z",
          "iopub.status.busy": "2021-02-05T14:39:15.018178Z",
          "iopub.status.idle": "2021-02-05T14:39:15.029181Z",
          "shell.execute_reply": "2021-02-05T14:39:15.029895Z"
        },
        "papermill": {
          "duration": 0.082898,
          "end_time": "2021-02-05T14:39:15.030116",
          "exception": false,
          "start_time": "2021-02-05T14:39:14.947218",
          "status": "completed"
        },
        "tags": []
      },
      "outputs": [
        {
          "name": "stdout",
          "output_type": "stream",
          "text": [
            "Predicted purchases (in dollars) for new costumers: [ 9382.07559476  9324.07559476  3695.57559476 ...  9590.57559476\n",
            " 10886.57559476 11560.07559476]\n"
          ]
        }
      ],
      "execution_count": 44
    },
    {
      "cell_type": "code",
      "source": "from sklearn import metrics\n\nprint('MAE:', metrics.mean_absolute_error(y_test, predictions))\nprint('MSE:', metrics.mean_squared_error(y_test, predictions))",
      "metadata": {
        "execution": {
          "iopub.execute_input": "2021-02-05T14:39:15.177904Z",
          "iopub.status.busy": "2021-02-05T14:39:15.177293Z",
          "iopub.status.idle": "2021-02-05T14:39:15.183065Z",
          "shell.execute_reply": "2021-02-05T14:39:15.182357Z"
        },
        "papermill": {
          "duration": 0.080338,
          "end_time": "2021-02-05T14:39:15.183216",
          "exception": false,
          "start_time": "2021-02-05T14:39:15.102878",
          "status": "completed"
        },
        "tags": []
      },
      "outputs": [
        {
          "name": "stdout",
          "output_type": "stream",
          "text": [
            "MAE: 3584.9542360607325\n",
            "MSE: 22034268.874539897\n"
          ]
        }
      ],
      "execution_count": 45
    }
  ]
}